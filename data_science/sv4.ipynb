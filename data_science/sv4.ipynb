{
 "cells": [
  {
   "cell_type": "code",
   "execution_count": 11,
   "outputs": [],
   "source": [
    "import scipy.stats\n",
    "import matplotlib.pyplot as plt\n",
    "import numpy as np\n",
    "import functools\n",
    "from tqdm import tqdm"
   ],
   "metadata": {
    "collapsed": false,
    "pycharm": {
     "name": "#%%\n"
    }
   }
  },
  {
   "cell_type": "code",
   "execution_count": 26,
   "outputs": [
    {
     "name": "stderr",
     "output_type": "stream",
     "text": [
      "100%|██████████| 201/201 [05:01<00:00,  1.50s/it]"
     ]
    },
    {
     "name": "stdout",
     "output_type": "stream",
     "text": [
      "0.05277426592488677\n",
      "0.007077742477949507\n"
     ]
    },
    {
     "name": "stderr",
     "output_type": "stream",
     "text": [
      "\n"
     ]
    }
   ],
   "source": [
    "# Question 5\n",
    "binom = scipy.stats.binom\n",
    "poisson = scipy.stats.poisson\n",
    "\n",
    "\n",
    "def p(r, d, n, x, y):\n",
    "    if x == n:\n",
    "        return 1.0 if y == n else 0.0\n",
    "    else:\n",
    "        return functools.reduce(\n",
    "            lambda a, k: a + poisson.pmf(mu=r * x / d, k=k + y - x) * binom.pmf(n=x, p=1 / d, k=k),\n",
    "            range(max(0, x - y), x + 1),\n",
    "            0.0\n",
    "        )\n",
    "\n",
    "\n",
    "n = 200\n",
    "r = 1.1\n",
    "d = 14\n",
    "x0 = 50\n",
    "pm = [[0 for _ in range(n + 1)] for _ in range(n + 1)]\n",
    "for i in tqdm(range(n + 1)):\n",
    "    i = n - i\n",
    "    for j in range(n):\n",
    "        pm[i][j] = p(r, d, n, i, j)\n",
    "    pm[i][n] = 1 - np.sum(pm[i])  # probabilities to last state\n",
    "\n",
    "pm = np.array(pm)\n",
    "pm[0, :] = 0\n",
    "pm[n, :] = 0\n",
    "b = np.zeros(n + 1)\n",
    "b[0] = 1\n",
    "a = np.linalg.solve(np.eye(n + 1) - pm, b)\n",
    "print(np.sum(a) / len(a))\n",
    "print(a[50])"
   ],
   "metadata": {
    "collapsed": false,
    "pycharm": {
     "name": "#%%\n"
    }
   }
  },
  {
   "cell_type": "code",
   "execution_count": 30,
   "outputs": [
    {
     "name": "stdout",
     "output_type": "stream",
     "text": [
      "[nan, nan, nan, nan, nan, nan, nan, nan, nan, nan]\n"
     ]
    },
    {
     "name": "stderr",
     "output_type": "stream",
     "text": [
      "/tmp/ipykernel_11318/259329429.py:40: RuntimeWarning: invalid value encountered in double_scalars\n",
      "  m[i][j] /= tot\n"
     ]
    }
   ],
   "source": [
    "def hmm():\n",
    "    MAX_STATE = 9\n",
    "    x = np.random.randint(low=0, high=MAX_STATE+1) # initial location X 0\n",
    "    while True:\n",
    "        e = np.random.choice([-1,0,1])\n",
    "        y = min(MAX_STATE, max(0, x + e)) # noisy reading of location\n",
    "        yield y\n",
    "        d = np.random.choice([-1,0,1], p=[1/4,1/2,1/4])\n",
    "        x = min(MAX_STATE, max(0, x + d)) # new location at next timestep\n",
    "\n",
    "ns = 10  # num states\n",
    "t = [[0 for _ in range(ns)] for _ in range(ns)]  # transition matrix\n",
    "for i in range(1, 9):\n",
    "    t[i][i + 1] = t[i][i - 1] = 1 / 4\n",
    "    t[i][i] = 1 / 2\n",
    "t[9][0] = t[0][0] = 3 / 4\n",
    "t[9][8] = t[0][1] = 1 / 4\n",
    "\n",
    "e = [[0 for _ in range(ns)] for _ in range(ns)]  # emission matrix\n",
    "for i in range(1, 9):\n",
    "    e[i][i - 1] = e[i][i] = e[i][i + 1] = 1 / 3\n",
    "e[0][0] = e[9][9] = 2 / 3\n",
    "e[0][1] = e[9][8] = 1 / 3\n",
    "\n",
    "def calc(ys):\n",
    "    m = [[0 for _ in range(ns)] for _ in range(len(ys))]  # n * ns memo table\n",
    "    for i in range(ns):  # initialise base case\n",
    "        m[0][i] = 1 / 10 * e[i][ys[0]]\n",
    "    tot = np.sum(m[0])\n",
    "    for i in range(ns):\n",
    "        m[0][i] /= tot\n",
    "    for i in range(1, len(ys)):  # calculate inductive case\n",
    "        for j in range(ns):\n",
    "            for k in range(ns):\n",
    "                m[i][j] += m[i - 1][k] * t[k][j]\n",
    "            m[i][j] *= e[j][ys[i]]\n",
    "        tot = np.sum(m[i])\n",
    "        for j in range(ns):\n",
    "            m[i][j] /= tot\n",
    "    return m[-1]"
   ],
   "metadata": {
    "collapsed": false,
    "pycharm": {
     "name": "#%%\n"
    }
   }
  }
 ],
 "metadata": {
  "kernelspec": {
   "display_name": "Python 3",
   "language": "python",
   "name": "python3"
  },
  "language_info": {
   "codemirror_mode": {
    "name": "ipython",
    "version": 2
   },
   "file_extension": ".py",
   "mimetype": "text/x-python",
   "name": "python",
   "nbconvert_exporter": "python",
   "pygments_lexer": "ipython2",
   "version": "2.7.6"
  }
 },
 "nbformat": 4,
 "nbformat_minor": 0
}