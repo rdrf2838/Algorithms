{
 "cells": [
  {
   "cell_type": "code",
   "execution_count": 2,
   "metadata": {
    "collapsed": true
   },
   "outputs": [],
   "source": [
    "import scipy.optimize\n",
    "import scipy.special\n",
    "import matplotlib.pyplot as plt\n",
    "import numpy as np\n",
    "import functools\n",
    "import numpy as np\n",
    "import pandas\n",
    "import requests, requests_cache, urllib, io\n",
    "import json, re\n",
    "import collections, numbers\n",
    "import os\n",
    "\n",
    "requests_cache.install_cache('data/cache')\n",
    "BASE_URL = 'https://data.police.uk/api/'\n",
    "\n",
    "numpy = np"
   ]
  },
  {
   "cell_type": "code",
   "execution_count": 4,
   "outputs": [
    {
     "name": "stdout",
     "output_type": "stream",
     "text": [
      "Optimization terminated successfully.\n",
      "         Current function value: 19.033583\n",
      "         Iterations: 20\n",
      "         Function evaluations: 40\n",
      "[3.85712891]\n"
     ]
    }
   ],
   "source": [
    "# Question 2\n",
    "us = np.array([3, 2, 8, 1, 5, 0, 8])\n",
    "\n",
    "\n",
    "def lg_pr(λ, us):\n",
    "    return -np.sum(-λ + us * np.log(λ) - np.log(scipy.special.factorial(us)))\n",
    "\n",
    "\n",
    "a = scipy.optimize.fmin(lg_pr, 1, (us,))\n",
    "\n",
    "print(a)"
   ],
   "metadata": {
    "collapsed": false,
    "pycharm": {
     "name": "#%%\n"
    }
   }
  },
  {
   "cell_type": "code",
   "execution_count": 6,
   "outputs": [
    {
     "name": "stdout",
     "output_type": "stream",
     "text": [
      "Optimization terminated successfully.\n",
      "         Current function value: -9.448021\n",
      "         Iterations: 26\n",
      "         Function evaluations: 52\n",
      "[3.85718445]\n"
     ]
    }
   ],
   "source": [
    "us = np.array([3, 2, 8, 1, 5, 0, 8])\n",
    "def lgpr(param, xs):\n",
    "    return -len(xs) * param +  np.log(param) * np.sum(xs)\n",
    "b = scipy.optimize.fmin(lambda x:-lgpr(np.exp(x),us), 0)\n",
    "print(np.exp(b))"
   ],
   "metadata": {
    "collapsed": false,
    "pycharm": {
     "name": "#%%\n"
    }
   }
  },
  {
   "cell_type": "code",
   "execution_count": null,
   "outputs": [],
   "source": [],
   "metadata": {
    "collapsed": false,
    "pycharm": {
     "name": "#%%\n"
    }
   }
  }
 ],
 "metadata": {
  "kernelspec": {
   "display_name": "Python 3",
   "language": "python",
   "name": "python3"
  },
  "language_info": {
   "codemirror_mode": {
    "name": "ipython",
    "version": 2
   },
   "file_extension": ".py",
   "mimetype": "text/x-python",
   "name": "python",
   "nbconvert_exporter": "python",
   "pygments_lexer": "ipython2",
   "version": "2.7.6"
  }
 },
 "nbformat": 4,
 "nbformat_minor": 0
}