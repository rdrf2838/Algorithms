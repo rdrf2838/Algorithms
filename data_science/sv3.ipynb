{
 "cells": [
  {
   "cell_type": "code",
   "execution_count": 2,
   "metadata": {
    "collapsed": true
   },
   "outputs": [],
   "source": [
    "from enum import Enum\n",
    "\n",
    "import numpy as np\n",
    "import scipy.stats\n",
    "import pandas\n",
    "import matplotlib.pyplot as plt\n",
    "import sklearn.linear_model\n",
    "from matplotlib.lines import Line2D\n",
    "import functools\n",
    "\n",
    "def draw(ax, shs, bshs, lo, hi):\n",
    "    ax.hist(shs, bins=bshs, density=True)\n",
    "    ax.add_line(Line2D([lo, lo], ax.get_ylim(), linewidth=1, linestyle='--'))\n",
    "    ax.add_line(Line2D([hi, hi], ax.get_ylim(), linewidth=1, linestyle='--'))"
   ]
  },
  {
   "cell_type": "code",
   "execution_count": 72,
   "outputs": [
    {
     "data": {
      "text/plain": "<Figure size 432x288 with 2 Axes>",
      "image/png": "[encoded data removed]"
     },
     "metadata": {
      "needs_background": "light"
     },
     "output_type": "display_data"
    }
   ],
   "source": [
    "# Question 1\n",
    "mu = 1\n",
    "s = 1\n",
    "n = 100\n",
    "\n",
    "f = functools.partial(scipy.stats.norm.rvs, loc=mu, scale=s)\n",
    "xs = [f() for _ in range(n)]  # generate dataset\n",
    "\n",
    "ss = 1000  # resample size\n",
    "\n",
    "\n",
    "def muh(xs):  # mu hat\n",
    "    return np.average(xs)\n",
    "\n",
    "\n",
    "def sh(xs):  # sigma hat\n",
    "    return np.sqrt(1 / len(xs) * np.sum((xs - muh(xs)) ** 2))\n",
    "\n",
    "\n",
    "def para(xs, sz):\n",
    "    muhv = muh(xs)\n",
    "    shv = sh(xs)\n",
    "    g = functools.partial(scipy.stats.norm.rvs, loc=muhv, scale=shv)\n",
    "    return [[g() for _ in range(len(xs))] for _ in range(sz)]\n",
    "\n",
    "\n",
    "def nonpara(xs, sz):\n",
    "    return [[np.random.choice(xs) for _ in range(len(xs))] for _ in range(sz)]\n",
    "\n",
    "\n",
    "ys, zs = map(lambda x: x(xs, ss), [para, nonpara])  # generate parametric/non-parametric datasets\n",
    "ysshs, zsshs = map(lambda xs: np.array(sorted(list(map(sh, xs)))), [ys, zs])  # calculate std dev\n",
    "\n",
    "fig1, (ax11, ax12) = plt.subplots(2, 1)\n",
    "bshs = np.linspace(0.6, 1.4, 50)\n",
    "\n",
    "\n",
    "def draw2(ax, shs, bshs):\n",
    "    lo, hi = shs[int(len(shs) * 0.025)], shs[int(len(shs) * 0.975)]\n",
    "    draw(ax, shs, bshs, lo, hi)\n",
    "\n",
    "draw2(ax11, ysshs, bshs)\n",
    "draw2(ax12, zsshs, bshs)\n",
    "\n",
    "plt.show()"
   ],
   "metadata": {
    "collapsed": false,
    "pycharm": {
     "name": "#%%\n"
    }
   }
  },
  {
   "cell_type": "code",
   "execution_count": 19,
   "outputs": [
    {
     "data": {
      "text/plain": "<Figure size 432x288 with 2 Axes>",
      "image/png": "[encoded data removed]"
     },
     "metadata": {
      "needs_background": "light"
     },
     "output_type": "display_data"
    },
    {
     "name": "stdout",
     "output_type": "stream",
     "text": [
      "p-value: 0.6988\n"
     ]
    },
    {
     "data": {
      "text/plain": "'calculate the probability that we obtained our current result.'"
     },
     "execution_count": 19,
     "metadata": {},
     "output_type": "execute_result"
    }
   ],
   "source": [
    "# Question 2\n",
    "\"\"\"\n",
    "While looking through this question again, I realised\n",
    "there is a shortcut: vhat-muhat is again a poisson rv,\n",
    "so I could have directly calculated the 95% confidence\n",
    "interval values without any code\n",
    "\"\"\"\n",
    "\n",
    "xs = [3, 1, 5]\n",
    "ys = [2, 3]\n",
    "\n",
    "ss = 10000  # sample size\n",
    "\n",
    "\n",
    "def lh(bs):  # lambda hat\n",
    "    return np.sum(bs) / len(bs)\n",
    "\n",
    "\n",
    "def vmu(vs, us):  # v minus u\n",
    "    return lh(vs) - lh(us)\n",
    "\n",
    "\n",
    "xlh, ylh = map(lh, [xs, ys])  # x lambda hat, y lambda hat\n",
    "\n",
    "\n",
    "def g(mu):  # generate one rv\n",
    "    return scipy.stats.poisson.rvs(mu=mu)\n",
    "\n",
    "\n",
    "def gd(xlh, xs, ylh, ys, ss):  # generate dataset\n",
    "    return [([g(xlh) for _ in range(len(xs))], [g(ylh) for _ in range(len(ys))]) for _ in range(ss)]\n",
    "\n",
    "\n",
    "ds = gd(xlh, xs, ylh, ys, ss)\n",
    "\n",
    "# calculate v minus u for all data\n",
    "vmuds = np.array(sorted(list(map(lambda x: vmu(*x), ds))))\n",
    "\n",
    "lo, hi = vmuds[int(len(vmuds) * 0.025)], vmuds[int(len(vmuds) * 0.975)]\n",
    "\n",
    "fig2, (ax21, ax22) = plt.subplots(2, 1)\n",
    "bvmuds = np.linspace(-6, 6, 25)\n",
    "draw(ax21, vmuds, bvmuds, lo, hi)\n",
    "\n",
    "xylh = lh(xs + ys)  # x and y (combined) lambda hat\n",
    "vmuv = vmu(xs, ys)  # v hat minus u hat value\n",
    "ds2 = gd(xylh, xs, xylh, ys, ss)  # dataset 2 for null hypothesis testing\n",
    "vmuds2 = np.array(sorted(list(map(lambda x: vmu(*x), ds2))))\n",
    "l = min(len(vmuds2[vmuds2 < vmuv]), len(vmuds2[vmuds2 > vmuv]))  # get tail length\n",
    "lo, hi = vmuds2[l], vmuds2[-l]  # use a 2-sided tail\n",
    "draw(ax22, vmuds2, bvmuds, lo, hi)\n",
    "plt.show()\n",
    "print(f'p-value: {2 * l / ss}')\n",
    "'For the confidence interval, we assume that there is a difference, '\n",
    "'and then try to estimate what that difference could have been. For '\n",
    "'the hypothesis test, we assume that there is no difference, and '\n",
    "'calculate the probability that we obtained our current result.'"
   ],
   "metadata": {
    "collapsed": false,
    "pycharm": {
     "name": "#%%\n"
    }
   }
  },
  {
   "cell_type": "code",
   "execution_count": 10,
   "outputs": [
    {
     "data": {
      "text/plain": "<Figure size 360x576 with 3 Axes>",
      "image/png": "[encoded data removed]"
     },
     "metadata": {
      "needs_background": "light"
     },
     "output_type": "display_data"
    },
    {
     "name": "stdout",
     "output_type": "stream",
     "text": [
      "p-value: 0.356\n"
     ]
    }
   ],
   "source": [
    "# Question 3\n",
    "url = 'https://www.cl.cam.ac.uk/teaching/2021/DataSci/data/climate.csv'\n",
    "climate = pandas.read_csv(url)\n",
    "climate = climate.loc[(climate.station == 'Cambridge') & (climate.yyyy >= 1985)].copy()\n",
    "t = climate.yyyy + (climate.mm - 1) / 12\n",
    "temp = (climate.tmin + climate.tmax) / 2\n",
    "\n",
    "cols = [np.sin(2 * np.pi * t), np.cos(2 * np.pi * t), t - 2000]\n",
    "X = np.column_stack(cols)\n",
    "model = sklearn.linear_model.LinearRegression()\n",
    "\n",
    "def fit(X, temp):\n",
    "    model.fit(X, temp)\n",
    "    return model.intercept_, *list(model.coef_)\n",
    "\n",
    "a, b1, b2, c = fit(X, temp)\n",
    "tempnew = model.predict(X)\n",
    "\n",
    "def g():  # generate new dataset, calculate sigma\n",
    "    s = np.sqrt(1 / len(temp) * np.sum((temp - tempnew) ** 2))\n",
    "    return tempnew + scipy.stats.norm.rvs(scale=s, size=len(tempnew))\n",
    "\n",
    "ss = 1000\n",
    "\n",
    "cs = sorted([fit(X, g())[3] for _ in range(ss)])\n",
    "lo, hi = cs[int(len(cs) * 0.025)], cs[int(len(cs) * 0.975)]\n",
    "fig3, (ax31, ax32, ax33) = plt.subplots(3, 1, figsize=(5, 8))\n",
    "bs = np.linspace(0.01, 0.055, 100)\n",
    "draw(ax31, cs, bs, lo, hi)\n",
    "\n",
    "model = sklearn.linear_model.LinearRegression(fit_intercept=False)\n",
    "cols2 = list(map(lambda x: np.where((x[0] <= t) & (t < x[1]), 1, 0), [(x, x + 10) for x in range(1980, 2021, 10)]))\n",
    "X = np.column_stack(cols[:-1] + cols2)\n",
    "def gmg(ps):  # gamma minus gamma, takes in params\n",
    "    return ps[6] - ps[3]\n",
    "csgmg = gmg(fit(X, temp))  # gamma minus gamma for climate data\n",
    "tempnew = model.predict(X)\n",
    "cs2 = sorted([gmg(fit(X, g())) for _ in range(ss)])\n",
    "lo, hi = cs2[int(len(cs2) * 0.025)], cs2[int(len(cs2) * 0.975)]\n",
    "bs2 = np.linspace(0.4, 1.8, 100)\n",
    "draw(ax32, cs2, bs2, lo, hi)\n",
    "\n",
    "c1980, c2010 = cols2[0], cols2[3]\n",
    "cols3 = cols2.copy()\n",
    "cols3[0] = c1980 & c2010\n",
    "cols3.pop(3)\n",
    "X2 = np.column_stack(cols[:-1] + cols3)\n",
    "fit(X2, temp)\n",
    "tempnew = model.predict(X2)\n",
    "\n",
    "cs3 = np.array(sorted([gmg(fit(X, g())) for _ in range(ss)]))\n",
    "l = min(len(cs3[cs3 < csgmg]), len(cs3[cs3 > csgmg]))  # get tail length\n",
    "lo, hi = cs3[l], cs3[-l]\n",
    "bs3 = np.linspace(-3, 3, 100)\n",
    "draw(ax33, cs3, bs3, lo, hi)\n",
    "plt.show()\n",
    "print(f'p-value: {2 * l / ss}')"
   ],
   "metadata": {
    "collapsed": false,
    "pycharm": {
     "name": "#%%\n"
    }
   }
  },
  {
   "cell_type": "code",
   "execution_count": 74,
   "outputs": [],
   "source": [],
   "metadata": {
    "collapsed": false,
    "pycharm": {
     "name": "#%%\n"
    }
   }
  }
 ],
 "metadata": {
  "kernelspec": {
   "display_name": "Python 3",
   "language": "python",
   "name": "python3"
  },
  "language_info": {
   "codemirror_mode": {
    "name": "ipython",
    "version": 2
   },
   "file_extension": ".py",
   "mimetype": "text/x-python",
   "name": "python",
   "nbconvert_exporter": "python",
   "pygments_lexer": "ipython2",
   "version": "2.7.6"
  }
 },
 "nbformat": 4,
 "nbformat_minor": 0
}