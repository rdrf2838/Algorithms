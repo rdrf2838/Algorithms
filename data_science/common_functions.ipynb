{
 "cells": [
  {
   "cell_type": "code",
   "execution_count": 44,
   "metadata": {
    "collapsed": true
   },
   "outputs": [],
   "source": [
    "\n",
    "import sklearn.linear_model\n",
    "import numpy as np\n",
    "import scipy.stats"
   ]
  },
  {
   "cell_type": "code",
   "execution_count": 46,
   "outputs": [
    {
     "name": "stdout",
     "output_type": "stream",
     "text": [
      "[ 1.00979193  2.04164478  1.85210808  1.91996515  3.94746799  2.07309995\n",
      "  3.93421905  2.04355883  1.02318015  1.07185143  2.15022909  4.37664867\n",
      "  3.0542097   0.93882554  0.9918751   1.13230674  1.89666952  2.94825676\n",
      "  0.93769569  2.88773987  1.96588538  4.04688029  2.96817473  4.13061063\n",
      "  2.95734441  0.01598237  1.9522708   0.90360394  2.04837562  1.0592128\n",
      "  4.0599176   0.0321393   0.92402691  1.88386685  0.92897965  4.13000701\n",
      "  0.99130683  3.8634824   0.03545931 -0.11313013  2.08458852  1.04251678\n",
      "  0.97100462  3.85472535  2.96277004  1.98408459  3.18909529 -0.07328903\n",
      "  2.03932089  3.84041926]\n",
      "[ 1.08675063  1.88765763  1.96879123  2.03485115  3.95391529  1.89195221\n",
      "  4.02390525  2.00782798  1.00356918  0.76841919  2.05644991  3.96990517\n",
      "  2.91395056  1.05917011  1.07229258  0.9957606   1.99560639  3.09038359\n",
      "  1.10204402  3.11335181  1.86345773  4.05240523  2.91994531  4.02559024\n",
      "  3.16062312  0.06789441  1.95089986  1.03812614  1.92494357  0.90555861\n",
      "  4.14529395 -0.01829297  0.93394086  1.95998179  1.02826339  3.9737864\n",
      "  1.00040366  3.99167046  0.02111813  0.03821586  1.78620848  1.04981453\n",
      "  0.91040217  3.90693602  3.05260438  2.03522167  2.68736943 -0.15407837\n",
      "  1.92771289  4.10044223]\n"
     ]
    }
   ],
   "source": [
    "SIZE = 50\n",
    "RANGE = 0, 5\n",
    "LOC, SCALE = 0, 0.1\n",
    "data_fake = np.array([np.random.randint(*RANGE) for _ in range(SIZE)])\n",
    "y_fake = data_fake + scipy.stats.norm.rvs(loc=LOC, scale=SCALE, size=SIZE)\n",
    "model = sklearn.linear_model.LinearRegression(fit_intercept=False)\n",
    "basis = [np.where(data_fake==i, np.ones_like(data_fake), 0) for i in range(*RANGE)]\n",
    "model.fit(np.column_stack(basis), y_fake)\n",
    "args = model.coef_\n",
    "residue = model.predict(np.column_stack(basis)) - y_fake\n",
    "def resample():\n",
    "    return model.predict(np.column_stack(basis)) + scipy.stats.norm.rvs(loc=LOC, scale=SCALE, size=SIZE)\n",
    "\n",
    "print(y_fake)\n",
    "print(resample())"
   ],
   "metadata": {
    "collapsed": false,
    "pycharm": {
     "name": "#%%\n"
    }
   }
  },
  {
   "cell_type": "code",
   "execution_count": null,
   "outputs": [],
   "source": [
    "F1=[]\n",
    "F2=[]\n",
    "F3=[]\n",
    "F0=np.ones_like(F1) # ones vector for a\n",
    "h=[]  # h vector\n",
    "\n",
    "model = sklearn.linear_model.LinearRegression(fit_intercept=False)\n",
    "model.fit(np.column_stack([F0,F1,F2,F3]),h)\n",
    "a,b,c,d=model.coef_\n"
   ],
   "metadata": {
    "collapsed": false,
    "pycharm": {
     "name": "#%%\n"
    }
   }
  }
 ],
 "metadata": {
  "kernelspec": {
   "display_name": "Python 3",
   "language": "python",
   "name": "python3"
  },
  "language_info": {
   "codemirror_mode": {
    "name": "ipython",
    "version": 2
   },
   "file_extension": ".py",
   "mimetype": "text/x-python",
   "name": "python",
   "nbconvert_exporter": "python",
   "pygments_lexer": "ipython2",
   "version": "2.7.6"
  }
 },
 "nbformat": 4,
 "nbformat_minor": 0
}