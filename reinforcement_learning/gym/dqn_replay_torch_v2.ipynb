{
 "cells": [
  {
   "cell_type": "code",
   "execution_count": 6,
   "metadata": {
    "collapsed": true
   },
   "outputs": [],
   "source": [
    "import time\n",
    "import matplotlib.pyplot as plt\n",
    "import gym\n",
    "import numpy as np\n",
    "import torch\n",
    "import torch.nn.functional as F\n",
    "from IPython.display import clear_output, display\n",
    "from torch import nn, optim"
   ]
  },
  {
   "cell_type": "code",
   "execution_count": 7,
   "outputs": [],
   "source": [
    "I = 4  # Input dimensions\n",
    "H = 64  # Hidden layer dimensions\n",
    "O = 2  # output dimensions (one-hot encoding)\n",
    "LEARNING_RATE = 0.001\n",
    "MOMENTUM = 0.9\n",
    "REPLAY_LENGTH = 1000\n",
    "EPISODE_NUM = 20000\n",
    "EPISODE_LENGTH = 200\n",
    "EPSILON = 0.1\n",
    "WARMUP_LENGTH = 10\n",
    "MINIBATCH_SIZE = 1000\n",
    "# WARMUP_LENGTH = 1\n",
    "# MINIBATCH_SIZE = 100\n",
    "EPOCHS = 1\n",
    "GAMMA = 1\n",
    "# dev = torch.device(\"cuda\") if torch.cuda.is_available() else torch.device(\"cpu\")"
   ],
   "metadata": {
    "collapsed": false,
    "pycharm": {
     "name": "#%%\n"
    }
   }
  },
  {
   "cell_type": "code",
   "execution_count": 8,
   "outputs": [],
   "source": [
    "class DQN(nn.Module):\n",
    "    def __init__(self):\n",
    "        super().__init__()\n",
    "        self.lin1 = nn.Linear(I,H)\n",
    "        self.lin2 = nn.Linear(H,H)\n",
    "        self.lin3 = nn.Linear(H,O)\n",
    "\n",
    "    def forward(self, xb):\n",
    "        xb = F.relu(self.lin1(xb))\n",
    "        xb = F.relu(self.lin2(xb))\n",
    "        return self.lin3(xb)\n",
    "\n",
    "def fit(epochs, batch_size, opt, model, loss_func, x, y):\n",
    "    for epoch in range(epochs):\n",
    "        model.train()\n",
    "        batch_num = x.size()[0] // batch_size\n",
    "        for i in range(batch_num):\n",
    "            xb = x[i*batch_size:(i+1)*batch_size]\n",
    "            yb = y[i*batch_size:(i+1)*batch_size]\n",
    "            loss = loss_func(model(xb), yb)\n",
    "            loss.backward()\n",
    "            opt.step()\n",
    "            opt.zero_grad()\n",
    "        print(f'Epoch: {epoch}\\nLoss: {loss}')\n",
    "\n",
    "def loss_func(y1, y2):\n",
    "    return torch.sum(torch.square(y1-y2))\n",
    "\n",
    "class Replay:\n",
    "    def __init__(self, n):\n",
    "        self.rng = np.random.default_rng()\n",
    "        self.n = n\n",
    "        self.arr = []\n",
    "\n",
    "    def debug(self, n):\n",
    "        print(np.array(self.arr, dtype='object'))\n",
    "        print(self.rng.choice(np.array(self.arr, dtype='object'), (n,)))\n",
    "\n",
    "    def sample(self, n):\n",
    "        minibatch = self.rng.choice(np.array(self.arr, dtype='object'), (n,))\n",
    "        obs2_arr = torch.from_numpy(np.vstack(minibatch[:, 3])).to(torch.float)\n",
    "        obs_arr = torch.from_numpy(np.vstack(minibatch[:, 0])).to(torch.float)\n",
    "        action_arr = torch.from_numpy(np.vstack(minibatch[:, 1]).flatten()).to(torch.long)\n",
    "        reward_arr = torch.from_numpy(np.vstack(minibatch[:, 2]).flatten()).to(torch.float)\n",
    "        return obs_arr, action_arr, reward_arr, obs2_arr\n",
    "\n",
    "    def add_one(self, v):\n",
    "        self.arr.append(v)\n",
    "        if len(self.arr) > self.n:\n",
    "            self.arr.pop(0)"
   ],
   "metadata": {
    "collapsed": false,
    "pycharm": {
     "name": "#%%\n"
    }
   }
  },
  {
   "cell_type": "code",
   "execution_count": 9,
   "outputs": [],
   "source": [
    "model = DQN()\n",
    "optimizer = optim.Adam(model.parameters(), lr=LEARNING_RATE)\n",
    "replay = Replay(REPLAY_LENGTH)\n",
    "env = gym.make('CartPole-v0')\n"
   ],
   "metadata": {
    "collapsed": false,
    "pycharm": {
     "name": "#%%\n"
    }
   }
  },
  {
   "cell_type": "code",
   "execution_count": 10,
   "outputs": [
    {
     "ename": "KeyboardInterrupt",
     "evalue": "",
     "output_type": "error",
     "traceback": [
      "\u001B[1;31m---------------------------------------------------------------------------\u001B[0m",
      "\u001B[1;31mKeyboardInterrupt\u001B[0m                         Traceback (most recent call last)",
      "\u001B[1;32m<ipython-input-10-1dba75cde924>\u001B[0m in \u001B[0;36m<module>\u001B[1;34m\u001B[0m\n\u001B[0;32m     10\u001B[0m     \u001B[1;32mfor\u001B[0m \u001B[0mt\u001B[0m \u001B[1;32min\u001B[0m \u001B[0mrange\u001B[0m\u001B[1;33m(\u001B[0m\u001B[0mEPISODE_LENGTH\u001B[0m\u001B[1;33m)\u001B[0m\u001B[1;33m:\u001B[0m\u001B[1;33m\u001B[0m\u001B[1;33m\u001B[0m\u001B[0m\n\u001B[0;32m     11\u001B[0m         \u001B[1;32mif\u001B[0m \u001B[0mreward_history\u001B[0m\u001B[1;33m[\u001B[0m\u001B[1;33m-\u001B[0m\u001B[1;36m1\u001B[0m\u001B[1;33m]\u001B[0m \u001B[1;33m>\u001B[0m\u001B[1;36m190\u001B[0m\u001B[1;33m:\u001B[0m\u001B[1;33m\u001B[0m\u001B[1;33m\u001B[0m\u001B[0m\n\u001B[1;32m---> 12\u001B[1;33m             \u001B[0menv\u001B[0m\u001B[1;33m.\u001B[0m\u001B[0mrender\u001B[0m\u001B[1;33m(\u001B[0m\u001B[1;33m)\u001B[0m\u001B[1;33m\u001B[0m\u001B[1;33m\u001B[0m\u001B[0m\n\u001B[0m\u001B[0;32m     13\u001B[0m         \u001B[0mobs\u001B[0m \u001B[1;33m=\u001B[0m \u001B[0mtorch\u001B[0m\u001B[1;33m.\u001B[0m\u001B[0mfrom_numpy\u001B[0m\u001B[1;33m(\u001B[0m\u001B[0mobs\u001B[0m\u001B[1;33m)\u001B[0m\u001B[1;33m.\u001B[0m\u001B[0mtype\u001B[0m\u001B[1;33m(\u001B[0m\u001B[0mtorch\u001B[0m\u001B[1;33m.\u001B[0m\u001B[0mFloatTensor\u001B[0m\u001B[1;33m)\u001B[0m\u001B[1;33m\u001B[0m\u001B[1;33m\u001B[0m\u001B[0m\n\u001B[0;32m     14\u001B[0m         \u001B[1;32mif\u001B[0m \u001B[0mnp\u001B[0m\u001B[1;33m.\u001B[0m\u001B[0mrandom\u001B[0m\u001B[1;33m.\u001B[0m\u001B[0mrand\u001B[0m\u001B[1;33m(\u001B[0m\u001B[1;33m)\u001B[0m \u001B[1;33m<\u001B[0m \u001B[0mEPSILON\u001B[0m \u001B[1;32mor\u001B[0m \u001B[0mepisode\u001B[0m \u001B[1;33m<\u001B[0m \u001B[0mWARMUP_LENGTH\u001B[0m\u001B[1;33m:\u001B[0m\u001B[1;33m\u001B[0m\u001B[1;33m\u001B[0m\u001B[0m\n",
      "\u001B[1;32mc:\\users\\leeji\\pycharmprojects\\algorithms\\venv\\lib\\site-packages\\gym\\core.py\u001B[0m in \u001B[0;36mrender\u001B[1;34m(self, mode, **kwargs)\u001B[0m\n\u001B[0;32m    238\u001B[0m \u001B[1;33m\u001B[0m\u001B[0m\n\u001B[0;32m    239\u001B[0m     \u001B[1;32mdef\u001B[0m \u001B[0mrender\u001B[0m\u001B[1;33m(\u001B[0m\u001B[0mself\u001B[0m\u001B[1;33m,\u001B[0m \u001B[0mmode\u001B[0m\u001B[1;33m=\u001B[0m\u001B[1;34m'human'\u001B[0m\u001B[1;33m,\u001B[0m \u001B[1;33m**\u001B[0m\u001B[0mkwargs\u001B[0m\u001B[1;33m)\u001B[0m\u001B[1;33m:\u001B[0m\u001B[1;33m\u001B[0m\u001B[1;33m\u001B[0m\u001B[0m\n\u001B[1;32m--> 240\u001B[1;33m         \u001B[1;32mreturn\u001B[0m \u001B[0mself\u001B[0m\u001B[1;33m.\u001B[0m\u001B[0menv\u001B[0m\u001B[1;33m.\u001B[0m\u001B[0mrender\u001B[0m\u001B[1;33m(\u001B[0m\u001B[0mmode\u001B[0m\u001B[1;33m,\u001B[0m \u001B[1;33m**\u001B[0m\u001B[0mkwargs\u001B[0m\u001B[1;33m)\u001B[0m\u001B[1;33m\u001B[0m\u001B[1;33m\u001B[0m\u001B[0m\n\u001B[0m\u001B[0;32m    241\u001B[0m \u001B[1;33m\u001B[0m\u001B[0m\n\u001B[0;32m    242\u001B[0m     \u001B[1;32mdef\u001B[0m \u001B[0mclose\u001B[0m\u001B[1;33m(\u001B[0m\u001B[0mself\u001B[0m\u001B[1;33m)\u001B[0m\u001B[1;33m:\u001B[0m\u001B[1;33m\u001B[0m\u001B[1;33m\u001B[0m\u001B[0m\n",
      "\u001B[1;32mc:\\users\\leeji\\pycharmprojects\\algorithms\\venv\\lib\\site-packages\\gym\\envs\\classic_control\\cartpole.py\u001B[0m in \u001B[0;36mrender\u001B[1;34m(self, mode)\u001B[0m\n\u001B[0;32m    211\u001B[0m         \u001B[0mself\u001B[0m\u001B[1;33m.\u001B[0m\u001B[0mpoletrans\u001B[0m\u001B[1;33m.\u001B[0m\u001B[0mset_rotation\u001B[0m\u001B[1;33m(\u001B[0m\u001B[1;33m-\u001B[0m\u001B[0mx\u001B[0m\u001B[1;33m[\u001B[0m\u001B[1;36m2\u001B[0m\u001B[1;33m]\u001B[0m\u001B[1;33m)\u001B[0m\u001B[1;33m\u001B[0m\u001B[1;33m\u001B[0m\u001B[0m\n\u001B[0;32m    212\u001B[0m \u001B[1;33m\u001B[0m\u001B[0m\n\u001B[1;32m--> 213\u001B[1;33m         \u001B[1;32mreturn\u001B[0m \u001B[0mself\u001B[0m\u001B[1;33m.\u001B[0m\u001B[0mviewer\u001B[0m\u001B[1;33m.\u001B[0m\u001B[0mrender\u001B[0m\u001B[1;33m(\u001B[0m\u001B[0mreturn_rgb_array\u001B[0m\u001B[1;33m=\u001B[0m\u001B[0mmode\u001B[0m \u001B[1;33m==\u001B[0m \u001B[1;34m'rgb_array'\u001B[0m\u001B[1;33m)\u001B[0m\u001B[1;33m\u001B[0m\u001B[1;33m\u001B[0m\u001B[0m\n\u001B[0m\u001B[0;32m    214\u001B[0m \u001B[1;33m\u001B[0m\u001B[0m\n\u001B[0;32m    215\u001B[0m     \u001B[1;32mdef\u001B[0m \u001B[0mclose\u001B[0m\u001B[1;33m(\u001B[0m\u001B[0mself\u001B[0m\u001B[1;33m)\u001B[0m\u001B[1;33m:\u001B[0m\u001B[1;33m\u001B[0m\u001B[1;33m\u001B[0m\u001B[0m\n",
      "\u001B[1;32mc:\\users\\leeji\\pycharmprojects\\algorithms\\venv\\lib\\site-packages\\gym\\envs\\classic_control\\rendering.py\u001B[0m in \u001B[0;36mrender\u001B[1;34m(self, return_rgb_array)\u001B[0m\n\u001B[0;32m    125\u001B[0m             \u001B[0marr\u001B[0m \u001B[1;33m=\u001B[0m \u001B[0marr\u001B[0m\u001B[1;33m.\u001B[0m\u001B[0mreshape\u001B[0m\u001B[1;33m(\u001B[0m\u001B[0mbuffer\u001B[0m\u001B[1;33m.\u001B[0m\u001B[0mheight\u001B[0m\u001B[1;33m,\u001B[0m \u001B[0mbuffer\u001B[0m\u001B[1;33m.\u001B[0m\u001B[0mwidth\u001B[0m\u001B[1;33m,\u001B[0m \u001B[1;36m4\u001B[0m\u001B[1;33m)\u001B[0m\u001B[1;33m\u001B[0m\u001B[1;33m\u001B[0m\u001B[0m\n\u001B[0;32m    126\u001B[0m             \u001B[0marr\u001B[0m \u001B[1;33m=\u001B[0m \u001B[0marr\u001B[0m\u001B[1;33m[\u001B[0m\u001B[1;33m:\u001B[0m\u001B[1;33m:\u001B[0m\u001B[1;33m-\u001B[0m\u001B[1;36m1\u001B[0m\u001B[1;33m,\u001B[0m\u001B[1;33m:\u001B[0m\u001B[1;33m,\u001B[0m\u001B[1;36m0\u001B[0m\u001B[1;33m:\u001B[0m\u001B[1;36m3\u001B[0m\u001B[1;33m]\u001B[0m\u001B[1;33m\u001B[0m\u001B[1;33m\u001B[0m\u001B[0m\n\u001B[1;32m--> 127\u001B[1;33m         \u001B[0mself\u001B[0m\u001B[1;33m.\u001B[0m\u001B[0mwindow\u001B[0m\u001B[1;33m.\u001B[0m\u001B[0mflip\u001B[0m\u001B[1;33m(\u001B[0m\u001B[1;33m)\u001B[0m\u001B[1;33m\u001B[0m\u001B[1;33m\u001B[0m\u001B[0m\n\u001B[0m\u001B[0;32m    128\u001B[0m         \u001B[0mself\u001B[0m\u001B[1;33m.\u001B[0m\u001B[0monetime_geoms\u001B[0m \u001B[1;33m=\u001B[0m \u001B[1;33m[\u001B[0m\u001B[1;33m]\u001B[0m\u001B[1;33m\u001B[0m\u001B[1;33m\u001B[0m\u001B[0m\n\u001B[0;32m    129\u001B[0m         \u001B[1;32mreturn\u001B[0m \u001B[0marr\u001B[0m \u001B[1;32mif\u001B[0m \u001B[0mreturn_rgb_array\u001B[0m \u001B[1;32melse\u001B[0m \u001B[0mself\u001B[0m\u001B[1;33m.\u001B[0m\u001B[0misopen\u001B[0m\u001B[1;33m\u001B[0m\u001B[1;33m\u001B[0m\u001B[0m\n",
      "\u001B[1;32mc:\\users\\leeji\\pycharmprojects\\algorithms\\venv\\lib\\site-packages\\pyglet\\window\\win32\\__init__.py\u001B[0m in \u001B[0;36mflip\u001B[1;34m(self)\u001B[0m\n\u001B[0;32m    334\u001B[0m             \u001B[1;32mif\u001B[0m \u001B[0mself\u001B[0m\u001B[1;33m.\u001B[0m\u001B[0m_always_dwm\u001B[0m \u001B[1;32mor\u001B[0m \u001B[0mself\u001B[0m\u001B[1;33m.\u001B[0m\u001B[0m_dwm_composition_enabled\u001B[0m\u001B[1;33m(\u001B[0m\u001B[1;33m)\u001B[0m\u001B[1;33m:\u001B[0m\u001B[1;33m\u001B[0m\u001B[1;33m\u001B[0m\u001B[0m\n\u001B[0;32m    335\u001B[0m                 \u001B[1;32mif\u001B[0m \u001B[0mself\u001B[0m\u001B[1;33m.\u001B[0m\u001B[0m_interval\u001B[0m\u001B[1;33m:\u001B[0m\u001B[1;33m\u001B[0m\u001B[1;33m\u001B[0m\u001B[0m\n\u001B[1;32m--> 336\u001B[1;33m                     \u001B[0m_dwmapi\u001B[0m\u001B[1;33m.\u001B[0m\u001B[0mDwmFlush\u001B[0m\u001B[1;33m(\u001B[0m\u001B[1;33m)\u001B[0m\u001B[1;33m\u001B[0m\u001B[1;33m\u001B[0m\u001B[0m\n\u001B[0m\u001B[0;32m    337\u001B[0m \u001B[1;33m\u001B[0m\u001B[0m\n\u001B[0;32m    338\u001B[0m         \u001B[0mself\u001B[0m\u001B[1;33m.\u001B[0m\u001B[0mcontext\u001B[0m\u001B[1;33m.\u001B[0m\u001B[0mflip\u001B[0m\u001B[1;33m(\u001B[0m\u001B[1;33m)\u001B[0m\u001B[1;33m\u001B[0m\u001B[1;33m\u001B[0m\u001B[0m\n",
      "\u001B[1;31mKeyboardInterrupt\u001B[0m: "
     ]
    },
    {
     "data": {
      "text/plain": "<Figure size 432x288 with 1 Axes>",
      "image/png": "[encoded data removed]"
     },
     "metadata": {
      "needs_background": "light"
     },
     "output_type": "display_data"
    }
   ],
   "source": [
    "start_time = time.time()\n",
    "tot_time = 0\n",
    "reward_history = [0]\n",
    "fig, ax = plt.subplots()\n",
    "for episode in range(EPISODE_NUM):\n",
    "    env.reset()\n",
    "    obs, reward, done, info = env.step(env.action_space.sample())\n",
    "    model.eval()\n",
    "    total_reward = 0\n",
    "    for t in range(EPISODE_LENGTH):\n",
    "        if reward_history[-1] > 190:\n",
    "            env.render()\n",
    "        obs = torch.from_numpy(obs).type(torch.FloatTensor)\n",
    "        if np.random.rand() < EPSILON or episode < WARMUP_LENGTH:\n",
    "            next_action = env.action_space.sample()\n",
    "        else:\n",
    "            action_values = model(torch.unsqueeze(obs, 0))[0]\n",
    "            next_action = torch.argmax(action_values).numpy()\n",
    "        obs2, reward, done, info = env.step(next_action)\n",
    "        replay.add_one((obs, next_action, reward, obs2))\n",
    "        obs = obs2\n",
    "        total_reward += reward\n",
    "    reward_history.append(total_reward)\n",
    "    elapsed_time = time.time() - start_time\n",
    "    start_time = time.time()\n",
    "    tot_time += elapsed_time\n",
    "    print(f'Progress: {episode}/{EPISODE_NUM}\\nTime Remaining: {tot_time * (EPISODE_NUM - episode) / (episode + 1)}')\n",
    "    print(f'Episode {episode}\\nreward: {total_reward}')\n",
    "    if episode >= WARMUP_LENGTH:\n",
    "        obs_arr, action_arr, reward_arr, obs2_arr = replay.sample(MINIBATCH_SIZE)\n",
    "        idx = torch.tensor(range(MINIBATCH_SIZE), dtype=torch.long)\n",
    "        x = obs_arr\n",
    "        y = model(x)\n",
    "        y2 = model(obs2_arr)\n",
    "        y[idx, action_arr] = GAMMA * torch.max(y2, dim=1)[0] + reward_arr\n",
    "        fit(EPOCHS, MINIBATCH_SIZE, optimizer, model, loss_func, x, y)\n",
    "    # if episode % 100 == 0:\n",
    "    #     ax.plot(range(len(reward_history)), reward_history)\n",
    "    #     display(plt.gcf())\n",
    "    clear_output(wait=True)\n",
    "\n",
    "\n",
    "\n",
    "torch.save(model, 'deep_gym_model_v2.pt')"
   ],
   "metadata": {
    "collapsed": false,
    "pycharm": {
     "name": "#%%\n"
    }
   }
  },
  {
   "cell_type": "code",
   "execution_count": null,
   "outputs": [],
   "source": [
    "fig, ax = plt.subplots()\n",
    "ax.plot(range(len(reward_history)), reward_history)"
   ],
   "metadata": {
    "collapsed": false,
    "pycharm": {
     "name": "#%%\n"
    }
   }
  },
  {
   "cell_type": "code",
   "execution_count": null,
   "outputs": [],
   "source": [
    "model = torch.load('deep_gym_model_v2.pt')\n",
    "model.eval()\n",
    "\n",
    "while(True):\n",
    "    env.reset()\n",
    "    obs, reward, done, info = env.step(env.action_space.sample())\n",
    "    for t in range(EPISODE_LENGTH):\n",
    "        obs = torch.from_numpy(obs).type(torch.FloatTensor)\n",
    "        env.render()\n",
    "        if np.random.rand() < 0:\n",
    "            next_action = env.action_space.sample()\n",
    "        else:\n",
    "            action_values = model(torch.unsqueeze(obs, 0))[0]\n",
    "            next_action = torch.argmax(action_values).numpy()\n",
    "        obs2, reward, done, info = env.step(next_action)\n",
    "        obs = obs2"
   ],
   "metadata": {
    "collapsed": false,
    "pycharm": {
     "name": "#%%\n"
    }
   }
  },
  {
   "cell_type": "code",
   "execution_count": null,
   "outputs": [],
   "source": [],
   "metadata": {
    "collapsed": false,
    "pycharm": {
     "name": "#%%\n"
    }
   }
  }
 ],
 "metadata": {
  "kernelspec": {
   "name": "python3",
   "language": "python",
   "display_name": "Python 3"
  },
  "language_info": {
   "codemirror_mode": {
    "name": "ipython",
    "version": 2
   },
   "file_extension": ".py",
   "mimetype": "text/x-python",
   "name": "python",
   "nbconvert_exporter": "python",
   "pygments_lexer": "ipython2",
   "version": "2.7.6"
  }
 },
 "nbformat": 4,
 "nbformat_minor": 0
}