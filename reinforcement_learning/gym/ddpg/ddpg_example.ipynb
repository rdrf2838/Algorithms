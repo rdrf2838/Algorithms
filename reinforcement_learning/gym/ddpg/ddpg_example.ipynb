{
 "cells": [
  {
   "cell_type": "code",
   "execution_count": 18,
   "outputs": [],
   "source": [
    "import sys\n",
    "import gym\n",
    "import numpy as np\n",
    "import pandas as pd\n",
    "import torch\n",
    "import matplotlib.pyplot as plt\n",
    "from tqdm import tqdm\n",
    "from ddpg import DDPGagent\n",
    "from utils import *\n",
    "from IPython.display import clear_output"
   ],
   "metadata": {
    "collapsed": false,
    "pycharm": {
     "name": "#%%\n"
    }
   }
  },
  {
   "cell_type": "code",
   "execution_count": 19,
   "outputs": [],
   "source": [
    "NUM_EPISODES = 50\n"
   ],
   "metadata": {
    "collapsed": false,
    "pycharm": {
     "name": "#%%\n"
    }
   }
  },
  {
   "cell_type": "code",
   "execution_count": 20,
   "outputs": [
    {
     "name": "stderr",
     "output_type": "stream",
     "text": [
      "  0%|          | 0/50 [00:00<?, ?it/s]c:\\users\\leeji\\pycharmprojects\\algorithms\\venv\\lib\\site-packages\\numpy\\core\\fromnumeric.py:3372: RuntimeWarning: Mean of empty slice.\n",
      "  return _methods._mean(a, axis=axis, dtype=dtype,\n",
      "c:\\users\\leeji\\pycharmprojects\\algorithms\\venv\\lib\\site-packages\\numpy\\core\\_methods.py:170: RuntimeWarning: invalid value encountered in double_scalars\n",
      "  ret = ret.dtype.type(ret / rcount)\n",
      "100%|██████████| 50/50 [01:34<00:00,  1.88s/it]\n"
     ]
    },
    {
     "name": "stdout",
     "output_type": "stream",
     "text": [
      "episode: 0, reward: -1413.55, average _reward: nan \n",
      "episode: 1, reward: -1334.33, average _reward: -1413.552307206938 \n",
      "episode: 2, reward: -1667.42, average _reward: -1373.9407572581085 \n",
      "episode: 3, reward: -1457.94, average _reward: -1471.765640118966 \n",
      "episode: 4, reward: -1177.83, average _reward: -1468.30901278605 \n",
      "episode: 5, reward: -922.53, average _reward: -1410.212659090263 \n",
      "episode: 6, reward: -1029.88, average _reward: -1328.9324109202846 \n",
      "episode: 7, reward: -1012.48, average _reward: -1286.2102628056814 \n",
      "episode: 8, reward: -760.77, average _reward: -1251.993779648295 \n",
      "episode: 9, reward: -515.32, average _reward: -1197.4133123612846 \n",
      "episode: 10, reward: -384.7, average _reward: -1129.2038202075246 \n",
      "episode: 11, reward: -371.43, average _reward: -1026.3182708972972 \n",
      "episode: 12, reward: -627.73, average _reward: -930.0285581163947 \n",
      "episode: 13, reward: -640.3, average _reward: -826.0600521690833 \n",
      "episode: 14, reward: -388.34, average _reward: -744.2957080292344 \n",
      "episode: 15, reward: -484.6, average _reward: -665.3470580036891 \n",
      "episode: 16, reward: -281.26, average _reward: -621.553753798801 \n",
      "episode: 17, reward: -403.88, average _reward: -546.6916491903021 \n",
      "episode: 18, reward: -502.99, average _reward: -485.83151728497904 \n",
      "episode: 19, reward: -366.98, average _reward: -460.05308222182384 \n",
      "episode: 20, reward: -799.98, average _reward: -445.21972334234533 \n",
      "episode: 21, reward: -624.87, average _reward: -486.7477107342256 \n",
      "episode: 22, reward: -129.88, average _reward: -512.0919960966437 \n",
      "episode: 23, reward: -506.66, average _reward: -462.30658553100875 \n",
      "episode: 24, reward: -251.01, average _reward: -448.9429186449987 \n",
      "episode: 25, reward: -356.02, average _reward: -435.2103191432622 \n",
      "episode: 26, reward: -240.19, average _reward: -422.35256099060814 \n",
      "episode: 27, reward: -498.72, average _reward: -418.2456923787533 \n",
      "episode: 28, reward: -57.58, average _reward: -427.7295574082903 \n",
      "episode: 29, reward: -128.47, average _reward: -383.18876096968216 \n",
      "episode: 30, reward: -484.55, average _reward: -359.33716586182334 \n",
      "episode: 31, reward: -253.23, average _reward: -327.79456906700926 \n",
      "episode: 32, reward: -240.41, average _reward: -290.6301727313646 \n",
      "episode: 33, reward: -118.32, average _reward: -301.6830513146309 \n",
      "episode: 34, reward: -370.1, average _reward: -262.8492009842385 \n",
      "episode: 35, reward: -516.53, average _reward: -274.7577149547167 \n",
      "episode: 36, reward: -410.34, average _reward: -290.80915561903106 \n",
      "episode: 37, reward: -503.63, average _reward: -307.82462928614746 \n",
      "episode: 38, reward: -379.22, average _reward: -308.3160653121767 \n",
      "episode: 39, reward: -487.04, average _reward: -340.48022816877483 \n",
      "episode: 40, reward: -406.37, average _reward: -376.33686203135215 \n",
      "episode: 41, reward: -388.86, average _reward: -368.5189200240261 \n",
      "episode: 42, reward: -345.63, average _reward: -382.0823078183321 \n",
      "episode: 43, reward: -476.73, average _reward: -392.60486159236325 \n",
      "episode: 44, reward: -355.2, average _reward: -428.44568485495756 \n",
      "episode: 45, reward: -488.43, average _reward: -426.95545030946016 \n",
      "episode: 46, reward: -375.12, average _reward: -424.14536017449973 \n",
      "episode: 47, reward: -444.52, average _reward: -420.6227041588293 \n",
      "episode: 48, reward: -368.28, average _reward: -414.71166668792256 \n",
      "episode: 49, reward: -616.88, average _reward: -413.6173505143699 \n"
     ]
    },
    {
     "data": {
      "text/plain": "<Figure size 432x288 with 1 Axes>",
      "image/png": "[encoded data removed]"
     },
     "metadata": {
      "needs_background": "light"
     },
     "output_type": "display_data"
    }
   ],
   "source": [
    "env = NormalizedEnv(gym.make(\"Pendulum-v0\"))\n",
    "\n",
    "agent = DDPGagent(env)\n",
    "noise = OUNoise(env.action_space)\n",
    "batch_size = 128\n",
    "rewards = []\n",
    "avg_rewards = []\n",
    "\n",
    "for episode in tqdm(range(NUM_EPISODES)):\n",
    "    state = env.reset()\n",
    "    noise.reset()\n",
    "    episode_reward = 0\n",
    "\n",
    "    for step in range(500):\n",
    "        action = agent.get_action(state)\n",
    "        action = noise.get_action(action, step)\n",
    "        new_state, reward, done, _ = env.step(action)\n",
    "        agent.memory.push(state, action, reward, new_state, done)\n",
    "\n",
    "        if len(agent.memory) > batch_size:\n",
    "            agent.update(batch_size)\n",
    "\n",
    "        state = new_state\n",
    "        episode_reward += reward\n",
    "\n",
    "        if done:\n",
    "            sys.stdout.write(\"episode: {}, reward: {}, average _reward: {} \\n\".format(episode, np.round(episode_reward, decimals=2), np.mean(rewards[-10:])))\n",
    "            break\n",
    "\n",
    "    rewards.append(episode_reward)\n",
    "    avg_rewards.append(np.mean(rewards[-10:]))\n",
    "\n",
    "agent.save('ddpg_actor.pt')\n",
    "plt.plot(rewards)\n",
    "plt.plot(avg_rewards)\n",
    "plt.plot()\n",
    "plt.xlabel('Episode')\n",
    "plt.ylabel('Reward')\n",
    "plt.show()"
   ],
   "metadata": {
    "collapsed": false,
    "pycharm": {
     "name": "#%%\n"
    }
   }
  },
  {
   "cell_type": "code",
   "execution_count": 21,
   "outputs": [],
   "source": [
    "def np2tsr(state):\n",
    "    return torch.from_numpy(state).float().unsqueeze(0)"
   ],
   "metadata": {
    "collapsed": false,
    "pycharm": {
     "name": "#%%\n"
    }
   }
  },
  {
   "cell_type": "code",
   "execution_count": 24,
   "outputs": [
    {
     "name": "stdout",
     "output_type": "stream",
     "text": [
      "episode: 49, reward: -857.67, average _reward: -426.6017281600615 \n",
      "\n"
     ]
    }
   ],
   "source": [
    "model = torch.load('ddpg_actor.pt')\n",
    "state = np2tsr(env.reset())\n",
    "for step in range(500):\n",
    "    env.render()\n",
    "    action = model(state).squeeze().detach().numpy()\n",
    "    new_state, reward, done, _ = env.step(action)\n",
    "    state = np2tsr(new_state)\n",
    "    episode_reward += reward\n",
    "\n",
    "    if done:\n",
    "        env.close()\n",
    "        print(f\"episode: {episode}, reward: {np.round(episode_reward, decimals=2)}, average _reward: {np.mean(rewards[-10:])} \\n\")\n",
    "        break"
   ],
   "metadata": {
    "collapsed": false,
    "pycharm": {
     "name": "#%%\n"
    }
   }
  },
  {
   "cell_type": "code",
   "execution_count": 22,
   "outputs": [],
   "source": [],
   "metadata": {
    "collapsed": false,
    "pycharm": {
     "name": "#%%\n"
    }
   }
  }
 ],
 "metadata": {
  "kernelspec": {
   "display_name": "Python 3",
   "language": "python",
   "name": "python3"
  },
  "language_info": {
   "codemirror_mode": {
    "name": "ipython",
    "version": 2
   },
   "file_extension": ".py",
   "mimetype": "text/x-python",
   "name": "python",
   "nbconvert_exporter": "python",
   "pygments_lexer": "ipython2",
   "version": "2.7.6"
  }
 },
 "nbformat": 4,
 "nbformat_minor": 0
}