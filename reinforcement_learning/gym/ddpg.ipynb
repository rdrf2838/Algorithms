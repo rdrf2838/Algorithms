{
 "cells": [
  {
   "cell_type": "code",
   "execution_count": 1,
   "outputs": [],
   "source": [
    "import gym\n",
    "import numpy as np\n",
    "import torch\n",
    "import torch.nn.functional as F\n",
    "from torch import nn, optim"
   ],
   "metadata": {
    "collapsed": false,
    "pycharm": {
     "name": "#%%\n"
    }
   }
  },
  {
   "cell_type": "code",
   "execution_count": 2,
   "outputs": [],
   "source": [
    "I = 4  # Input dimensions\n",
    "H = 64  # Hidden layer dimensions\n",
    "O = 2  # output dimensions (one-hot encoding)\n",
    "LEARNING_RATE = 0.00001\n",
    "MOMENTUM = 0.9\n",
    "REPLAY_LENGTH = 1000\n",
    "EPISODE_NUM = 1\n",
    "EPISODE_LENGTH = 200\n",
    "EPSILON = 0.1\n",
    "WARMUP_LENGTH = 10\n",
    "MINIBATCH_SIZE = 1000\n",
    "# WARMUP_LENGTH = 1\n",
    "# MINIBATCH_SIZE = 100\n",
    "EPOCHS = 1\n",
    "GAMMA = 1\n",
    "# dev = torch.device(\"cuda\") if torch.cuda.is_available() else torch.device(\"cpu\")"
   ],
   "metadata": {
    "collapsed": false,
    "pycharm": {
     "name": "#%%\n"
    }
   }
  },
  {
   "cell_type": "code",
   "execution_count": 3,
   "outputs": [],
   "source": [
    "class Replay:\n",
    "    def __init__(self, n):\n",
    "        self.n = n\n",
    "        self.obs_arr = []\n",
    "        self.action_arr = []\n",
    "        self.reward_arr = []\n",
    "        self.obs2_arr = []\n",
    "        self.arr_arr = [self.obs_arr, self.action_arr, self.reward_arr, self.obs2_arr]\n",
    "\n",
    "    def add(self, t):\n",
    "        assert len(t) == 4\n",
    "        flag = len(self.obs_arr) > self.n\n",
    "        for i, v in enumerate(t):\n",
    "            self.arr_arr[i].append(v)\n",
    "            if flag: self.arr_arr[i].pop(0)\n",
    "\n",
    "    def __str__(self):\n",
    "        return f'n: {self.n}\\n' \\\n",
    "               f'obs_arr: {self.obs_arr}\\n' \\\n",
    "               f'action_arr: {self.action_arr}\\n' \\\n",
    "               f'reward_arr: {self.reward_arr}\\n' \\\n",
    "               f'obs2_arr: {self.obs2_arr}'\n",
    "\n",
    "    def sample(self, n):\n",
    "        idx = torch.randperm(min(len(self.obs_arr), n))\n",
    "        obs_tsr = torch.cat(self.obs_arr).view((-1, 4))\n",
    "        action_tsr = torch.LongTensor(self.action_arr)\n",
    "        reward_tsr = torch.FloatTensor(self.reward_arr)\n",
    "        obs2_tsr = torch.cat(self.obs2_arr).view((-1, 4))\n",
    "        return tuple(map(lambda x:x[idx], (obs_tsr, action_tsr, reward_tsr, obs2_tsr)))\n",
    "\n"
   ],
   "metadata": {
    "collapsed": false,
    "pycharm": {
     "name": "#%%\n"
    }
   }
  },
  {
   "cell_type": "code",
   "execution_count": 4,
   "outputs": [],
   "source": [
    "# model = DQN()\n",
    "# optimizer = optim.SGD(model.parameters(), lr=LEARNING_RATE)\n",
    "# optimizer = optim.SGD(model.parameters(), lr=LEARNING_RATE, momentum=MOMENTUM)\n",
    "replay = Replay(REPLAY_LENGTH)\n",
    "env = gym.make('CartPole-v0')"
   ],
   "metadata": {
    "collapsed": false,
    "pycharm": {
     "name": "#%%\n"
    }
   }
  },
  {
   "cell_type": "code",
   "execution_count": 5,
   "outputs": [
    {
     "name": "stdout",
     "output_type": "stream",
     "text": [
      "n: 1000\n",
      "obs_arr: [tensor([ 0.0452,  0.2367, -0.0093, -0.2746], dtype=torch.float64), tensor([ 0.0499,  0.4319, -0.0148, -0.5702], dtype=torch.float64), tensor([ 0.0585,  0.2370, -0.0262, -0.2823], dtype=torch.float64), tensor([ 0.0633,  0.4325, -0.0319, -0.5831], dtype=torch.float64), tensor([ 0.0719,  0.6281, -0.0436, -0.8857], dtype=torch.float64), tensor([ 0.0845,  0.4336, -0.0613, -0.6070], dtype=torch.float64), tensor([ 0.0932,  0.2393, -0.0734, -0.3342], dtype=torch.float64), tensor([ 0.0980,  0.4354, -0.0801, -0.6491], dtype=torch.float64), tensor([ 0.1067,  0.6316, -0.0931, -0.9659], dtype=torch.float64), tensor([ 0.1193,  0.8278, -0.1124, -1.2863], dtype=torch.float64), tensor([ 0.1359,  1.0242, -0.1381, -1.6120], dtype=torch.float64), tensor([ 0.1563,  1.2206, -0.1704, -1.9443], dtype=torch.float64), tensor([ 0.1808,  1.0277, -0.2092, -1.7089], dtype=torch.float64), tensor([ 0.2013,  0.8355, -0.2434, -1.4880], dtype=torch.float64), tensor([ 0.2180,  1.0326, -0.2732, -1.8458], dtype=torch.float64), tensor([ 0.2387,  1.2295, -0.3101, -2.2095], dtype=torch.float64), tensor([ 0.2633,  1.0384, -0.3543, -2.0263], dtype=torch.float64), tensor([ 0.2840,  1.2351, -0.3948, -2.4049], dtype=torch.float64), tensor([ 0.3087,  1.4310, -0.4429, -2.7893], dtype=torch.float64), tensor([ 0.3373,  1.2407, -0.4987, -2.6574], dtype=torch.float64), tensor([ 0.3622,  1.4353, -0.5518, -3.0544], dtype=torch.float64), tensor([ 0.3909,  1.2456, -0.6129, -2.9662], dtype=torch.float64), tensor([ 0.4158,  1.0569, -0.6723, -2.9038], dtype=torch.float64), tensor([ 0.4369,  1.2485, -0.7303, -3.3117], dtype=torch.float64), tensor([ 0.4619,  1.0595, -0.7966, -3.2967], dtype=torch.float64), tensor([ 0.4831,  0.8710, -0.8625, -3.3092], dtype=torch.float64), tensor([ 0.5005,  0.6828, -0.9287, -3.3488], dtype=torch.float64), tensor([ 0.5142,  0.4946, -0.9957, -3.4152], dtype=torch.float64), tensor([ 0.5240,  0.6773, -1.0640, -3.8110], dtype=torch.float64), tensor([ 0.5376,  0.4866, -1.1402, -3.9291], dtype=torch.float64), tensor([ 0.5473,  0.2948, -1.2188, -4.0762], dtype=torch.float64), tensor([ 0.5532,  0.1015, -1.3003, -4.2522], dtype=torch.float64), tensor([ 0.5552,  0.2718, -1.3853, -4.6038], dtype=torch.float64), tensor([ 0.5607,  0.0730, -1.4774, -4.8378], dtype=torch.float64), tensor([ 0.5621, -0.1289, -1.5742, -5.1022], dtype=torch.float64), tensor([ 0.5596,  0.0292, -1.6762, -5.3954], dtype=torch.float64), tensor([ 0.5602, -0.1805, -1.7841, -5.7209], dtype=torch.float64), tensor([ 0.5565, -0.0300, -1.8985, -5.9605], dtype=torch.float64), tensor([ 0.5559, -0.2480, -2.0177, -6.3441], dtype=torch.float64), tensor([ 0.5510, -0.4709, -2.1446, -6.7537], dtype=torch.float64), tensor([ 0.5416, -0.6982, -2.2797, -7.1857], dtype=torch.float64), tensor([ 0.5276, -0.9289, -2.4234, -7.6341], dtype=torch.float64), tensor([ 0.5090, -0.7829, -2.5761, -7.6627], dtype=torch.float64), tensor([ 0.4934, -1.0105, -2.7294, -8.1084], dtype=torch.float64), tensor([ 0.4732, -0.8482, -2.8915, -8.0032], dtype=torch.float64), tensor([ 0.4562, -1.0613, -3.0516, -8.3856], dtype=torch.float64), tensor([ 0.4350, -1.2637, -3.2193, -8.7145], dtype=torch.float64), tensor([ 0.4097, -1.0619, -3.3936, -8.3898], dtype=torch.float64), tensor([ 0.3885, -0.8471, -3.5614, -8.0045], dtype=torch.float64), tensor([ 0.3715, -0.6239, -3.7215, -7.5790], dtype=torch.float64), tensor([ 0.3590, -0.7783, -3.8731, -7.6117], dtype=torch.float64), tensor([ 0.3435, -0.9238, -4.0253, -7.5777], dtype=torch.float64), tensor([ 0.3250, -1.0625, -4.1768, -7.4824], dtype=torch.float64), tensor([ 0.3037, -0.8269, -4.3265, -7.0492], dtype=torch.float64), tensor([ 0.2872, -0.5964, -4.4675, -6.6466], dtype=torch.float64), tensor([ 0.2753, -0.7366, -4.6004, -6.4124], dtype=torch.float64), tensor([ 0.2605, -0.8799, -4.7287, -6.1443], dtype=torch.float64), tensor([ 0.2429, -0.6640, -4.8515, -5.8556], dtype=torch.float64), tensor([ 0.2297, -0.8170, -4.9686, -5.5326], dtype=torch.float64), tensor([ 0.2133, -0.6106, -5.0793, -5.3267], dtype=torch.float64), tensor([ 0.2011, -0.7743, -5.1858, -4.9642], dtype=torch.float64), tensor([ 0.1856, -0.5751, -5.2851, -4.8387], dtype=torch.float64), tensor([ 0.1741, -0.3776, -5.3819, -4.7522], dtype=torch.float64), tensor([ 0.1666, -0.5544, -5.4769, -4.3571], dtype=torch.float64), tensor([ 0.1555, -0.3605, -5.5641, -4.3463], dtype=torch.float64), tensor([ 0.1483, -0.5447, -5.6510, -3.9447], dtype=torch.float64), tensor([ 0.1374, -0.7329, -5.7299, -3.5432], dtype=torch.float64), tensor([ 0.1227, -0.9241, -5.8008, -3.1447], dtype=torch.float64), tensor([ 0.1042, -0.7334, -5.8637, -3.2617], dtype=torch.float64), tensor([ 0.0896, -0.9273, -5.9289, -2.8763], dtype=torch.float64), tensor([ 0.0710, -1.1226, -5.9864, -2.4996], dtype=torch.float64), tensor([ 0.0486, -1.3187, -6.0364, -2.1323], dtype=torch.float64), tensor([ 0.0222, -1.1267, -6.0791, -2.3397], dtype=torch.float64), tensor([-3.4454e-04, -1.3230e+00, -6.1258e+00, -1.9918e+00],\n",
      "       dtype=torch.float64), tensor([-0.0268, -1.5194, -6.1657, -1.6548], dtype=torch.float64), tensor([-0.0572, -1.7157, -6.1988, -1.3279], dtype=torch.float64), tensor([-0.0915, -1.5217, -6.2253, -1.5931], dtype=torch.float64), tensor([-0.1219, -1.7175, -6.2572, -1.2829], dtype=torch.float64), tensor([-0.1563, -1.5227, -6.2829, -1.5674], dtype=torch.float64), tensor([-0.1867, -1.3276, -6.3142, -1.8599], dtype=torch.float64), tensor([-0.2133, -1.1322, -6.3514, -2.1621], dtype=torch.float64), tensor([-0.2359, -1.3265, -6.3946, -1.8912], dtype=torch.float64), tensor([-0.2625, -1.1304, -6.4325, -2.2163], dtype=torch.float64), tensor([-0.2851, -1.3238, -6.4768, -1.9731], dtype=torch.float64), tensor([-0.3116, -1.1272, -6.5163, -2.3191], dtype=torch.float64), tensor([-0.3341, -0.9309, -6.5626, -2.6735], dtype=torch.float64), tensor([-0.3527, -0.7350, -6.6161, -3.0371], dtype=torch.float64), tensor([-0.3674, -0.9271, -6.6769, -2.8608], dtype=torch.float64), tensor([-0.3860, -0.7321, -6.7341, -3.2438], dtype=torch.float64), tensor([-0.4006, -0.9234, -6.7989, -3.1136], dtype=torch.float64), tensor([-0.4191, -0.7302, -6.8612, -3.5107], dtype=torch.float64), tensor([-0.4337, -0.5393, -6.9314, -3.9112], dtype=torch.float64), tensor([-0.4445, -0.7314, -7.0097, -3.8590], dtype=torch.float64), tensor([-0.4591, -0.9228, -7.0868, -3.8396], dtype=torch.float64), tensor([-0.4775, -1.1139, -7.1636, -3.8523], dtype=torch.float64), tensor([-0.4998, -1.3048, -7.2407, -3.8966], dtype=torch.float64), tensor([-0.5259, -1.4960, -7.3186, -3.9720], dtype=torch.float64), tensor([-0.5558, -1.3175, -7.3980, -4.3615], dtype=torch.float64), tensor([-0.5822, -1.1436, -7.4853, -4.7403], dtype=torch.float64), tensor([-0.6051, -1.3417, -7.5801, -4.9074], dtype=torch.float64), tensor([-0.6319, -1.5421, -7.6782, -5.1091], dtype=torch.float64), tensor([-0.6627, -1.7454, -7.7804, -5.3453], dtype=torch.float64), tensor([-0.6976, -1.5885, -7.8873, -5.6558], dtype=torch.float64), tensor([-0.7294, -1.7998, -8.0004, -5.9602], dtype=torch.float64), tensor([-0.7654, -1.6517, -8.1196, -6.2186], dtype=torch.float64), tensor([-0.7984, -1.5065, -8.2440, -6.4451], dtype=torch.float64), tensor([-0.8286, -1.3629, -8.3729, -6.6351], dtype=torch.float64), tensor([-0.8558, -1.2192, -8.5056, -6.7835], dtype=torch.float64), tensor([-0.8802, -1.4464, -8.6413, -7.2240], dtype=torch.float64), tensor([-0.9091, -1.2997, -8.7858, -7.2756], dtype=torch.float64), tensor([-0.9351, -1.5266, -8.9313, -7.7241], dtype=torch.float64), tensor([-0.9657, -1.7516, -9.0858, -8.1606], dtype=torch.float64), tensor([-1.0007, -1.5839, -9.2490, -8.0212], dtype=torch.float64), tensor([-1.0324, -1.7920, -9.4094, -8.3800], dtype=torch.float64), tensor([-1.0682, -1.9884, -9.5770, -8.6790], dtype=torch.float64), tensor([-1.1080, -1.7803, -9.7506, -8.3260], dtype=torch.float64), tensor([-1.1436, -1.9482, -9.9171, -8.4704], dtype=torch.float64), tensor([ -1.1826,  -2.1018, -10.0865,  -8.5344], dtype=torch.float64), tensor([ -1.2246,  -1.8626, -10.2572,  -8.0708], dtype=torch.float64), tensor([ -1.2618,  -1.6230, -10.4186,  -7.6114], dtype=torch.float64), tensor([ -1.2943,  -1.3861, -10.5708,  -7.1712], dtype=torch.float64), tensor([ -1.3220,  -1.1540, -10.7143,  -6.7598], dtype=torch.float64), tensor([ -1.3451,  -1.2930, -10.8495,  -6.5353], dtype=torch.float64), tensor([ -1.3710,  -1.4347, -10.9802,  -6.2754], dtype=torch.float64), tensor([ -1.3997,  -1.2169, -11.1057,  -5.9764], dtype=torch.float64), tensor([ -1.4240,  -1.3680, -11.2252,  -5.6592], dtype=torch.float64), tensor([ -1.4514,  -1.1601, -11.3384,  -5.4439], dtype=torch.float64), tensor([ -1.4746,  -0.9556, -11.4473,  -5.2702], dtype=torch.float64), tensor([ -1.4937,  -0.7536, -11.5527,  -5.1379], dtype=torch.float64), tensor([ -1.5087,  -0.9243, -11.6554,  -4.7529], dtype=torch.float64), tensor([ -1.5272,  -1.1009, -11.7505,  -4.3583], dtype=torch.float64), tensor([ -1.5493,  -1.2827, -11.8376,  -3.9574], dtype=torch.float64), tensor([ -1.5749,  -1.4687, -11.9168,  -3.5534], dtype=torch.float64), tensor([ -1.6043,  -1.2781, -11.9879,  -3.6032], dtype=torch.float64), tensor([ -1.6298,  -1.0868, -12.0599,  -3.6827], dtype=torch.float64), tensor([ -1.6516,  -1.2783, -12.1336,  -3.2889], dtype=torch.float64), tensor([ -1.6771,  -1.0867, -12.1994,  -3.4265], dtype=torch.float64), tensor([ -1.6989,  -1.2807, -12.2679,  -3.0494], dtype=torch.float64), tensor([ -1.7245,  -1.0882, -12.3289,  -3.2390], dtype=torch.float64), tensor([ -1.7463,  -0.8947, -12.3937,  -3.4519], dtype=torch.float64), tensor([ -1.7641,  -0.7004, -12.4627,  -3.6885], dtype=torch.float64), tensor([ -1.7782,  -0.5055, -12.5365,  -3.9488], dtype=torch.float64), tensor([ -1.7883,  -0.3104, -12.6154,  -4.2325], dtype=torch.float64), tensor([ -1.7945,  -0.1155, -12.7001,  -4.5390], dtype=torch.float64), tensor([ -1.7968,  -0.3111, -12.7909,  -4.2874], dtype=torch.float64), tensor([ -1.8030,  -0.5064, -12.8766,  -4.0672], dtype=torch.float64), tensor([ -1.8131,  -0.3134, -12.9580,  -4.4327], dtype=torch.float64), tensor([ -1.8194,  -0.1225, -13.0466,  -4.8095], dtype=torch.float64), tensor([ -1.8219,  -0.3191, -13.1428,  -4.6838], dtype=torch.float64), tensor([ -1.8282,  -0.5151, -13.2365,  -4.5976], dtype=torch.float64), tensor([ -1.8385,  -0.3310, -13.3284,  -4.9966], dtype=torch.float64), tensor([ -1.8452,  -0.5289, -13.4284,  -4.9849], dtype=torch.float64), tensor([ -1.8557,  -0.7270, -13.5281,  -5.0146], dtype=torch.float64), tensor([ -1.8703,  -0.5538, -13.6284,  -5.4044], dtype=torch.float64), tensor([ -1.8814,  -0.7564, -13.7364,  -5.5131], dtype=torch.float64), tensor([ -1.8965,  -0.9610, -13.8467,  -5.6641], dtype=torch.float64), tensor([ -1.9157,  -0.8025, -13.9600,  -6.0139], dtype=torch.float64), tensor([ -1.9318,  -1.0148, -14.0803,  -6.2471], dtype=torch.float64), tensor([ -1.9520,  -1.2314, -14.2052,  -6.5222], dtype=torch.float64), tensor([ -1.9767,  -1.4528, -14.3357,  -6.8381], dtype=torch.float64), tensor([ -2.0057,  -1.6794, -14.4724,  -7.1934], dtype=torch.float64), tensor([ -2.0393,  -1.5452, -14.6163,  -7.4048], dtype=torch.float64), tensor([ -2.0702,  -1.4111, -14.7644,  -7.5730], dtype=torch.float64), tensor([ -2.0984,  -1.6471, -14.9158,  -8.0187], dtype=torch.float64), tensor([ -2.1314,  -1.5089, -15.0762,  -8.0824], dtype=torch.float64), tensor([ -2.1616,  -1.7425, -15.2379,  -8.5388], dtype=torch.float64), tensor([ -2.1964,  -1.5877, -15.4086,  -8.4650], dtype=torch.float64), tensor([ -2.2282,  -1.4183, -15.5779,  -8.3089], dtype=torch.float64), tensor([ -2.2565,  -1.6238, -15.7441,  -8.6526], dtype=torch.float64), tensor([ -2.2890,  -1.8157, -15.9172,  -8.9297], dtype=torch.float64), tensor([ -2.3253,  -1.6022, -16.0958,  -8.5554], dtype=torch.float64), tensor([ -2.3574,  -1.7636, -16.2669,  -8.6683], dtype=torch.float64), tensor([ -2.3926,  -1.5280, -16.4402,  -8.2128], dtype=torch.float64), tensor([ -2.4232,  -1.2896, -16.6045,  -7.7503], dtype=torch.float64), tensor([ -2.4490,  -1.0523, -16.7595,  -7.2984], dtype=torch.float64), tensor([ -2.4700,  -0.8187, -16.9055,  -6.8693], dtype=torch.float64), tensor([ -2.4864,  -0.9573, -17.0429,  -6.6714], dtype=torch.float64), tensor([ -2.5056,  -1.0973, -17.1763,  -6.4346], dtype=torch.float64), tensor([ -2.5275,  -0.8765, -17.3050,  -6.1082], dtype=torch.float64), tensor([ -2.5450,  -0.6611, -17.4271,  -5.8228], dtype=torch.float64), tensor([ -2.5583,  -0.4505, -17.5436,  -5.5787], dtype=torch.float64), tensor([ -2.5673,  -0.6091, -17.6552,  -5.2327], dtype=torch.float64), tensor([ -2.5795,  -0.7739, -17.7598,  -4.8685], dtype=torch.float64), tensor([ -2.5949,  -0.5755, -17.8572,  -4.7455], dtype=torch.float64), tensor([ -2.6064,  -0.7499, -17.9521,  -4.3563], dtype=torch.float64), tensor([ -2.6214,  -0.5559, -18.0392,  -4.3079], dtype=torch.float64), tensor([ -2.6326,  -0.3623, -18.1254,  -4.2951], dtype=torch.float64), tensor([ -2.6398,  -0.1686, -18.2113,  -4.3180], dtype=torch.float64), tensor([ -2.6432,  -0.3549, -18.2976,  -3.9184], dtype=torch.float64), tensor([ -2.6503,  -0.1622, -18.3760,  -4.0103], dtype=torch.float64), tensor([ -2.6535,  -0.3531, -18.4562,  -3.6214], dtype=torch.float64), tensor([ -2.6606,  -0.5463, -18.5286,  -3.2411], dtype=torch.float64), tensor([ -2.6715,  -0.7411, -18.5935,  -2.8711], dtype=torch.float64), tensor([ -2.6863,  -0.9367, -18.6509,  -2.5127], dtype=torch.float64), tensor([ -2.7051,  -0.7437, -18.7011,  -2.7385], dtype=torch.float64), tensor([ -2.7199,  -0.5499, -18.7559,  -2.9825], dtype=torch.float64), tensor([ -2.7309,  -0.7455, -18.8156,  -2.6630], dtype=torch.float64), tensor([ -2.7458,  -0.9408, -18.8688,  -2.3602], dtype=torch.float64), tensor([ -2.7647,  -1.1358, -18.9160,  -2.0735], dtype=torch.float64), tensor([ -2.7874,  -1.3301, -18.9575,  -1.8021], dtype=torch.float64)]\n",
      "action_arr: [1, 0, 1, 1, 0, 0, 1, 1, 1, 1, 1, 0, 0, 1, 1, 0, 1, 1, 0, 1, 0, 0, 1, 0, 0, 0, 0, 1, 0, 0, 0, 1, 0, 0, 1, 0, 1, 0, 0, 0, 0, 1, 0, 1, 0, 0, 1, 1, 1, 0, 0, 0, 1, 1, 0, 0, 1, 0, 1, 0, 1, 1, 0, 1, 0, 0, 0, 1, 0, 0, 0, 1, 0, 0, 0, 1, 0, 1, 1, 1, 0, 1, 0, 1, 1, 1, 0, 1, 0, 1, 1, 0, 0, 0, 0, 0, 1, 1, 0, 0, 0, 1, 0, 1, 1, 1, 1, 0, 1, 0, 0, 1, 0, 0, 1, 0, 0, 1, 1, 1, 1, 0, 0, 1, 0, 1, 1, 1, 0, 0, 0, 0, 1, 1, 0, 1, 0, 1, 1, 1, 1, 1, 1, 0, 0, 1, 1, 0, 0, 1, 0, 0, 1, 0, 0, 1, 0, 0, 0, 0, 1, 1, 0, 1, 0, 1, 1, 0, 0, 1, 0, 1, 1, 1, 1, 0, 0, 1, 1, 1, 0, 0, 1, 0, 1, 1, 1, 0, 1, 0, 0, 0, 0, 1, 1, 0, 0, 0, 0, 0]\n",
      "reward_arr: [1.0, 1.0, 1.0, 1.0, 1.0, 1.0, 1.0, 1.0, 1.0, 1.0, 1.0, 1.0, 1.0, 0.0, 0.0, 0.0, 0.0, 0.0, 0.0, 0.0, 0.0, 0.0, 0.0, 0.0, 0.0, 0.0, 0.0, 0.0, 0.0, 0.0, 0.0, 0.0, 0.0, 0.0, 0.0, 0.0, 0.0, 0.0, 0.0, 0.0, 0.0, 0.0, 0.0, 0.0, 0.0, 0.0, 0.0, 0.0, 0.0, 0.0, 0.0, 0.0, 0.0, 0.0, 0.0, 0.0, 0.0, 0.0, 0.0, 0.0, 0.0, 0.0, 0.0, 0.0, 0.0, 0.0, 0.0, 0.0, 0.0, 0.0, 0.0, 0.0, 0.0, 0.0, 0.0, 0.0, 0.0, 0.0, 0.0, 0.0, 0.0, 0.0, 0.0, 0.0, 0.0, 0.0, 0.0, 0.0, 0.0, 0.0, 0.0, 0.0, 0.0, 0.0, 0.0, 0.0, 0.0, 0.0, 0.0, 0.0, 0.0, 0.0, 0.0, 0.0, 0.0, 0.0, 0.0, 0.0, 0.0, 0.0, 0.0, 0.0, 0.0, 0.0, 0.0, 0.0, 0.0, 0.0, 0.0, 0.0, 0.0, 0.0, 0.0, 0.0, 0.0, 0.0, 0.0, 0.0, 0.0, 0.0, 0.0, 0.0, 0.0, 0.0, 0.0, 0.0, 0.0, 0.0, 0.0, 0.0, 0.0, 0.0, 0.0, 0.0, 0.0, 0.0, 0.0, 0.0, 0.0, 0.0, 0.0, 0.0, 0.0, 0.0, 0.0, 0.0, 0.0, 0.0, 0.0, 0.0, 0.0, 0.0, 0.0, 0.0, 0.0, 0.0, 0.0, 0.0, 0.0, 0.0, 0.0, 0.0, 0.0, 0.0, 0.0, 0.0, 0.0, 0.0, 0.0, 0.0, 0.0, 0.0, 0.0, 0.0, 0.0, 0.0, 0.0, 0.0, 0.0, 0.0, 0.0, 0.0, 0.0, 0.0, 0.0, 0.0, 0.0, 0.0, 0.0, 0.0]\n",
      "obs2_arr: [tensor([ 0.0499,  0.4319, -0.0148, -0.5702], dtype=torch.float64), tensor([ 0.0585,  0.2370, -0.0262, -0.2823], dtype=torch.float64), tensor([ 0.0633,  0.4325, -0.0319, -0.5831], dtype=torch.float64), tensor([ 0.0719,  0.6281, -0.0436, -0.8857], dtype=torch.float64), tensor([ 0.0845,  0.4336, -0.0613, -0.6070], dtype=torch.float64), tensor([ 0.0932,  0.2393, -0.0734, -0.3342], dtype=torch.float64), tensor([ 0.0980,  0.4354, -0.0801, -0.6491], dtype=torch.float64), tensor([ 0.1067,  0.6316, -0.0931, -0.9659], dtype=torch.float64), tensor([ 0.1193,  0.8278, -0.1124, -1.2863], dtype=torch.float64), tensor([ 0.1359,  1.0242, -0.1381, -1.6120], dtype=torch.float64), tensor([ 0.1563,  1.2206, -0.1704, -1.9443], dtype=torch.float64), tensor([ 0.1808,  1.0277, -0.2092, -1.7089], dtype=torch.float64), tensor([ 0.2013,  0.8355, -0.2434, -1.4880], dtype=torch.float64), tensor([ 0.2180,  1.0326, -0.2732, -1.8458], dtype=torch.float64), tensor([ 0.2387,  1.2295, -0.3101, -2.2095], dtype=torch.float64), tensor([ 0.2633,  1.0384, -0.3543, -2.0263], dtype=torch.float64), tensor([ 0.2840,  1.2351, -0.3948, -2.4049], dtype=torch.float64), tensor([ 0.3087,  1.4310, -0.4429, -2.7893], dtype=torch.float64), tensor([ 0.3373,  1.2407, -0.4987, -2.6574], dtype=torch.float64), tensor([ 0.3622,  1.4353, -0.5518, -3.0544], dtype=torch.float64), tensor([ 0.3909,  1.2456, -0.6129, -2.9662], dtype=torch.float64), tensor([ 0.4158,  1.0569, -0.6723, -2.9038], dtype=torch.float64), tensor([ 0.4369,  1.2485, -0.7303, -3.3117], dtype=torch.float64), tensor([ 0.4619,  1.0595, -0.7966, -3.2967], dtype=torch.float64), tensor([ 0.4831,  0.8710, -0.8625, -3.3092], dtype=torch.float64), tensor([ 0.5005,  0.6828, -0.9287, -3.3488], dtype=torch.float64), tensor([ 0.5142,  0.4946, -0.9957, -3.4152], dtype=torch.float64), tensor([ 0.5240,  0.6773, -1.0640, -3.8110], dtype=torch.float64), tensor([ 0.5376,  0.4866, -1.1402, -3.9291], dtype=torch.float64), tensor([ 0.5473,  0.2948, -1.2188, -4.0762], dtype=torch.float64), tensor([ 0.5532,  0.1015, -1.3003, -4.2522], dtype=torch.float64), tensor([ 0.5552,  0.2718, -1.3853, -4.6038], dtype=torch.float64), tensor([ 0.5607,  0.0730, -1.4774, -4.8378], dtype=torch.float64), tensor([ 0.5621, -0.1289, -1.5742, -5.1022], dtype=torch.float64), tensor([ 0.5596,  0.0292, -1.6762, -5.3954], dtype=torch.float64), tensor([ 0.5602, -0.1805, -1.7841, -5.7209], dtype=torch.float64), tensor([ 0.5565, -0.0300, -1.8985, -5.9605], dtype=torch.float64), tensor([ 0.5559, -0.2480, -2.0177, -6.3441], dtype=torch.float64), tensor([ 0.5510, -0.4709, -2.1446, -6.7537], dtype=torch.float64), tensor([ 0.5416, -0.6982, -2.2797, -7.1857], dtype=torch.float64), tensor([ 0.5276, -0.9289, -2.4234, -7.6341], dtype=torch.float64), tensor([ 0.5090, -0.7829, -2.5761, -7.6627], dtype=torch.float64), tensor([ 0.4934, -1.0105, -2.7294, -8.1084], dtype=torch.float64), tensor([ 0.4732, -0.8482, -2.8915, -8.0032], dtype=torch.float64), tensor([ 0.4562, -1.0613, -3.0516, -8.3856], dtype=torch.float64), tensor([ 0.4350, -1.2637, -3.2193, -8.7145], dtype=torch.float64), tensor([ 0.4097, -1.0619, -3.3936, -8.3898], dtype=torch.float64), tensor([ 0.3885, -0.8471, -3.5614, -8.0045], dtype=torch.float64), tensor([ 0.3715, -0.6239, -3.7215, -7.5790], dtype=torch.float64), tensor([ 0.3590, -0.7783, -3.8731, -7.6117], dtype=torch.float64), tensor([ 0.3435, -0.9238, -4.0253, -7.5777], dtype=torch.float64), tensor([ 0.3250, -1.0625, -4.1768, -7.4824], dtype=torch.float64), tensor([ 0.3037, -0.8269, -4.3265, -7.0492], dtype=torch.float64), tensor([ 0.2872, -0.5964, -4.4675, -6.6466], dtype=torch.float64), tensor([ 0.2753, -0.7366, -4.6004, -6.4124], dtype=torch.float64), tensor([ 0.2605, -0.8799, -4.7287, -6.1443], dtype=torch.float64), tensor([ 0.2429, -0.6640, -4.8515, -5.8556], dtype=torch.float64), tensor([ 0.2297, -0.8170, -4.9686, -5.5326], dtype=torch.float64), tensor([ 0.2133, -0.6106, -5.0793, -5.3267], dtype=torch.float64), tensor([ 0.2011, -0.7743, -5.1858, -4.9642], dtype=torch.float64), tensor([ 0.1856, -0.5751, -5.2851, -4.8387], dtype=torch.float64), tensor([ 0.1741, -0.3776, -5.3819, -4.7522], dtype=torch.float64), tensor([ 0.1666, -0.5544, -5.4769, -4.3571], dtype=torch.float64), tensor([ 0.1555, -0.3605, -5.5641, -4.3463], dtype=torch.float64), tensor([ 0.1483, -0.5447, -5.6510, -3.9447], dtype=torch.float64), tensor([ 0.1374, -0.7329, -5.7299, -3.5432], dtype=torch.float64), tensor([ 0.1227, -0.9241, -5.8008, -3.1447], dtype=torch.float64), tensor([ 0.1042, -0.7334, -5.8637, -3.2617], dtype=torch.float64), tensor([ 0.0896, -0.9273, -5.9289, -2.8763], dtype=torch.float64), tensor([ 0.0710, -1.1226, -5.9864, -2.4996], dtype=torch.float64), tensor([ 0.0486, -1.3187, -6.0364, -2.1323], dtype=torch.float64), tensor([ 0.0222, -1.1267, -6.0791, -2.3397], dtype=torch.float64), tensor([-3.4454e-04, -1.3230e+00, -6.1258e+00, -1.9918e+00],\n",
      "       dtype=torch.float64), tensor([-0.0268, -1.5194, -6.1657, -1.6548], dtype=torch.float64), tensor([-0.0572, -1.7157, -6.1988, -1.3279], dtype=torch.float64), tensor([-0.0915, -1.5217, -6.2253, -1.5931], dtype=torch.float64), tensor([-0.1219, -1.7175, -6.2572, -1.2829], dtype=torch.float64), tensor([-0.1563, -1.5227, -6.2829, -1.5674], dtype=torch.float64), tensor([-0.1867, -1.3276, -6.3142, -1.8599], dtype=torch.float64), tensor([-0.2133, -1.1322, -6.3514, -2.1621], dtype=torch.float64), tensor([-0.2359, -1.3265, -6.3946, -1.8912], dtype=torch.float64), tensor([-0.2625, -1.1304, -6.4325, -2.2163], dtype=torch.float64), tensor([-0.2851, -1.3238, -6.4768, -1.9731], dtype=torch.float64), tensor([-0.3116, -1.1272, -6.5163, -2.3191], dtype=torch.float64), tensor([-0.3341, -0.9309, -6.5626, -2.6735], dtype=torch.float64), tensor([-0.3527, -0.7350, -6.6161, -3.0371], dtype=torch.float64), tensor([-0.3674, -0.9271, -6.6769, -2.8608], dtype=torch.float64), tensor([-0.3860, -0.7321, -6.7341, -3.2438], dtype=torch.float64), tensor([-0.4006, -0.9234, -6.7989, -3.1136], dtype=torch.float64), tensor([-0.4191, -0.7302, -6.8612, -3.5107], dtype=torch.float64), tensor([-0.4337, -0.5393, -6.9314, -3.9112], dtype=torch.float64), tensor([-0.4445, -0.7314, -7.0097, -3.8590], dtype=torch.float64), tensor([-0.4591, -0.9228, -7.0868, -3.8396], dtype=torch.float64), tensor([-0.4775, -1.1139, -7.1636, -3.8523], dtype=torch.float64), tensor([-0.4998, -1.3048, -7.2407, -3.8966], dtype=torch.float64), tensor([-0.5259, -1.4960, -7.3186, -3.9720], dtype=torch.float64), tensor([-0.5558, -1.3175, -7.3980, -4.3615], dtype=torch.float64), tensor([-0.5822, -1.1436, -7.4853, -4.7403], dtype=torch.float64), tensor([-0.6051, -1.3417, -7.5801, -4.9074], dtype=torch.float64), tensor([-0.6319, -1.5421, -7.6782, -5.1091], dtype=torch.float64), tensor([-0.6627, -1.7454, -7.7804, -5.3453], dtype=torch.float64), tensor([-0.6976, -1.5885, -7.8873, -5.6558], dtype=torch.float64), tensor([-0.7294, -1.7998, -8.0004, -5.9602], dtype=torch.float64), tensor([-0.7654, -1.6517, -8.1196, -6.2186], dtype=torch.float64), tensor([-0.7984, -1.5065, -8.2440, -6.4451], dtype=torch.float64), tensor([-0.8286, -1.3629, -8.3729, -6.6351], dtype=torch.float64), tensor([-0.8558, -1.2192, -8.5056, -6.7835], dtype=torch.float64), tensor([-0.8802, -1.4464, -8.6413, -7.2240], dtype=torch.float64), tensor([-0.9091, -1.2997, -8.7858, -7.2756], dtype=torch.float64), tensor([-0.9351, -1.5266, -8.9313, -7.7241], dtype=torch.float64), tensor([-0.9657, -1.7516, -9.0858, -8.1606], dtype=torch.float64), tensor([-1.0007, -1.5839, -9.2490, -8.0212], dtype=torch.float64), tensor([-1.0324, -1.7920, -9.4094, -8.3800], dtype=torch.float64), tensor([-1.0682, -1.9884, -9.5770, -8.6790], dtype=torch.float64), tensor([-1.1080, -1.7803, -9.7506, -8.3260], dtype=torch.float64), tensor([-1.1436, -1.9482, -9.9171, -8.4704], dtype=torch.float64), tensor([ -1.1826,  -2.1018, -10.0865,  -8.5344], dtype=torch.float64), tensor([ -1.2246,  -1.8626, -10.2572,  -8.0708], dtype=torch.float64), tensor([ -1.2618,  -1.6230, -10.4186,  -7.6114], dtype=torch.float64), tensor([ -1.2943,  -1.3861, -10.5708,  -7.1712], dtype=torch.float64), tensor([ -1.3220,  -1.1540, -10.7143,  -6.7598], dtype=torch.float64), tensor([ -1.3451,  -1.2930, -10.8495,  -6.5353], dtype=torch.float64), tensor([ -1.3710,  -1.4347, -10.9802,  -6.2754], dtype=torch.float64), tensor([ -1.3997,  -1.2169, -11.1057,  -5.9764], dtype=torch.float64), tensor([ -1.4240,  -1.3680, -11.2252,  -5.6592], dtype=torch.float64), tensor([ -1.4514,  -1.1601, -11.3384,  -5.4439], dtype=torch.float64), tensor([ -1.4746,  -0.9556, -11.4473,  -5.2702], dtype=torch.float64), tensor([ -1.4937,  -0.7536, -11.5527,  -5.1379], dtype=torch.float64), tensor([ -1.5087,  -0.9243, -11.6554,  -4.7529], dtype=torch.float64), tensor([ -1.5272,  -1.1009, -11.7505,  -4.3583], dtype=torch.float64), tensor([ -1.5493,  -1.2827, -11.8376,  -3.9574], dtype=torch.float64), tensor([ -1.5749,  -1.4687, -11.9168,  -3.5534], dtype=torch.float64), tensor([ -1.6043,  -1.2781, -11.9879,  -3.6032], dtype=torch.float64), tensor([ -1.6298,  -1.0868, -12.0599,  -3.6827], dtype=torch.float64), tensor([ -1.6516,  -1.2783, -12.1336,  -3.2889], dtype=torch.float64), tensor([ -1.6771,  -1.0867, -12.1994,  -3.4265], dtype=torch.float64), tensor([ -1.6989,  -1.2807, -12.2679,  -3.0494], dtype=torch.float64), tensor([ -1.7245,  -1.0882, -12.3289,  -3.2390], dtype=torch.float64), tensor([ -1.7463,  -0.8947, -12.3937,  -3.4519], dtype=torch.float64), tensor([ -1.7641,  -0.7004, -12.4627,  -3.6885], dtype=torch.float64), tensor([ -1.7782,  -0.5055, -12.5365,  -3.9488], dtype=torch.float64), tensor([ -1.7883,  -0.3104, -12.6154,  -4.2325], dtype=torch.float64), tensor([ -1.7945,  -0.1155, -12.7001,  -4.5390], dtype=torch.float64), tensor([ -1.7968,  -0.3111, -12.7909,  -4.2874], dtype=torch.float64), tensor([ -1.8030,  -0.5064, -12.8766,  -4.0672], dtype=torch.float64), tensor([ -1.8131,  -0.3134, -12.9580,  -4.4327], dtype=torch.float64), tensor([ -1.8194,  -0.1225, -13.0466,  -4.8095], dtype=torch.float64), tensor([ -1.8219,  -0.3191, -13.1428,  -4.6838], dtype=torch.float64), tensor([ -1.8282,  -0.5151, -13.2365,  -4.5976], dtype=torch.float64), tensor([ -1.8385,  -0.3310, -13.3284,  -4.9966], dtype=torch.float64), tensor([ -1.8452,  -0.5289, -13.4284,  -4.9849], dtype=torch.float64), tensor([ -1.8557,  -0.7270, -13.5281,  -5.0146], dtype=torch.float64), tensor([ -1.8703,  -0.5538, -13.6284,  -5.4044], dtype=torch.float64), tensor([ -1.8814,  -0.7564, -13.7364,  -5.5131], dtype=torch.float64), tensor([ -1.8965,  -0.9610, -13.8467,  -5.6641], dtype=torch.float64), tensor([ -1.9157,  -0.8025, -13.9600,  -6.0139], dtype=torch.float64), tensor([ -1.9318,  -1.0148, -14.0803,  -6.2471], dtype=torch.float64), tensor([ -1.9520,  -1.2314, -14.2052,  -6.5222], dtype=torch.float64), tensor([ -1.9767,  -1.4528, -14.3357,  -6.8381], dtype=torch.float64), tensor([ -2.0057,  -1.6794, -14.4724,  -7.1934], dtype=torch.float64), tensor([ -2.0393,  -1.5452, -14.6163,  -7.4048], dtype=torch.float64), tensor([ -2.0702,  -1.4111, -14.7644,  -7.5730], dtype=torch.float64), tensor([ -2.0984,  -1.6471, -14.9158,  -8.0187], dtype=torch.float64), tensor([ -2.1314,  -1.5089, -15.0762,  -8.0824], dtype=torch.float64), tensor([ -2.1616,  -1.7425, -15.2379,  -8.5388], dtype=torch.float64), tensor([ -2.1964,  -1.5877, -15.4086,  -8.4650], dtype=torch.float64), tensor([ -2.2282,  -1.4183, -15.5779,  -8.3089], dtype=torch.float64), tensor([ -2.2565,  -1.6238, -15.7441,  -8.6526], dtype=torch.float64), tensor([ -2.2890,  -1.8157, -15.9172,  -8.9297], dtype=torch.float64), tensor([ -2.3253,  -1.6022, -16.0958,  -8.5554], dtype=torch.float64), tensor([ -2.3574,  -1.7636, -16.2669,  -8.6683], dtype=torch.float64), tensor([ -2.3926,  -1.5280, -16.4402,  -8.2128], dtype=torch.float64), tensor([ -2.4232,  -1.2896, -16.6045,  -7.7503], dtype=torch.float64), tensor([ -2.4490,  -1.0523, -16.7595,  -7.2984], dtype=torch.float64), tensor([ -2.4700,  -0.8187, -16.9055,  -6.8693], dtype=torch.float64), tensor([ -2.4864,  -0.9573, -17.0429,  -6.6714], dtype=torch.float64), tensor([ -2.5056,  -1.0973, -17.1763,  -6.4346], dtype=torch.float64), tensor([ -2.5275,  -0.8765, -17.3050,  -6.1082], dtype=torch.float64), tensor([ -2.5450,  -0.6611, -17.4271,  -5.8228], dtype=torch.float64), tensor([ -2.5583,  -0.4505, -17.5436,  -5.5787], dtype=torch.float64), tensor([ -2.5673,  -0.6091, -17.6552,  -5.2327], dtype=torch.float64), tensor([ -2.5795,  -0.7739, -17.7598,  -4.8685], dtype=torch.float64), tensor([ -2.5949,  -0.5755, -17.8572,  -4.7455], dtype=torch.float64), tensor([ -2.6064,  -0.7499, -17.9521,  -4.3563], dtype=torch.float64), tensor([ -2.6214,  -0.5559, -18.0392,  -4.3079], dtype=torch.float64), tensor([ -2.6326,  -0.3623, -18.1254,  -4.2951], dtype=torch.float64), tensor([ -2.6398,  -0.1686, -18.2113,  -4.3180], dtype=torch.float64), tensor([ -2.6432,  -0.3549, -18.2976,  -3.9184], dtype=torch.float64), tensor([ -2.6503,  -0.1622, -18.3760,  -4.0103], dtype=torch.float64), tensor([ -2.6535,  -0.3531, -18.4562,  -3.6214], dtype=torch.float64), tensor([ -2.6606,  -0.5463, -18.5286,  -3.2411], dtype=torch.float64), tensor([ -2.6715,  -0.7411, -18.5935,  -2.8711], dtype=torch.float64), tensor([ -2.6863,  -0.9367, -18.6509,  -2.5127], dtype=torch.float64), tensor([ -2.7051,  -0.7437, -18.7011,  -2.7385], dtype=torch.float64), tensor([ -2.7199,  -0.5499, -18.7559,  -2.9825], dtype=torch.float64), tensor([ -2.7309,  -0.7455, -18.8156,  -2.6630], dtype=torch.float64), tensor([ -2.7458,  -0.9408, -18.8688,  -2.3602], dtype=torch.float64), tensor([ -2.7647,  -1.1358, -18.9160,  -2.0735], dtype=torch.float64), tensor([ -2.7874,  -1.3301, -18.9575,  -1.8021], dtype=torch.float64), tensor([ -2.8140,  -1.5239, -18.9935,  -1.5448], dtype=torch.float64)]\n"
     ]
    },
    {
     "name": "stderr",
     "output_type": "stream",
     "text": [
      "c:\\users\\leeji\\pycharmprojects\\algorithms\\venv\\lib\\site-packages\\gym\\logger.py:30: UserWarning: \u001B[33mWARN: You are calling 'step()' even though this environment has already returned done = True. You should always call 'reset()' once you receive 'done = True' -- any further steps are undefined behavior.\u001B[0m\n",
      "  warnings.warn(colorize('%s: %s'%('WARN', msg % args), 'yellow'))\n"
     ]
    }
   ],
   "source": [
    "for episode in range(EPISODE_NUM):\n",
    "    env.reset()\n",
    "    obs, reward, done, info = env.step(env.action_space.sample())\n",
    "    obs = torch.from_numpy(obs)\n",
    "    for time in range(EPISODE_LENGTH):\n",
    "        # env.render()\n",
    "        next_action = env.action_space.sample()\n",
    "        obs2, reward, done, info = env.step(next_action)\n",
    "        obs2 = torch.from_numpy(obs2)\n",
    "        replay.add((obs, next_action, reward, obs2))\n",
    "        obs = obs2\n",
    "print(replay)"
   ],
   "metadata": {
    "collapsed": false,
    "pycharm": {
     "name": "#%%\n"
    }
   }
  },
  {
   "cell_type": "code",
   "execution_count": 6,
   "outputs": [
    {
     "name": "stdout",
     "output_type": "stream",
     "text": [
      "(tensor([[ 0.0585,  0.2370, -0.0262, -0.2823],\n",
      "        [ 0.0452,  0.2367, -0.0093, -0.2746],\n",
      "        [ 0.1193,  0.8278, -0.1124, -1.2863],\n",
      "        [ 0.1067,  0.6316, -0.0931, -0.9659],\n",
      "        [ 0.0499,  0.4319, -0.0148, -0.5702],\n",
      "        [ 0.0980,  0.4354, -0.0801, -0.6491],\n",
      "        [ 0.0719,  0.6281, -0.0436, -0.8857],\n",
      "        [ 0.0633,  0.4325, -0.0319, -0.5831],\n",
      "        [ 0.0932,  0.2393, -0.0734, -0.3342],\n",
      "        [ 0.0845,  0.4336, -0.0613, -0.6070]], dtype=torch.float64), tensor([1, 1, 1, 1, 0, 1, 0, 1, 1, 0]), tensor([1., 1., 1., 1., 1., 1., 1., 1., 1., 1.]), tensor([[ 0.0633,  0.4325, -0.0319, -0.5831],\n",
      "        [ 0.0499,  0.4319, -0.0148, -0.5702],\n",
      "        [ 0.1359,  1.0242, -0.1381, -1.6120],\n",
      "        [ 0.1193,  0.8278, -0.1124, -1.2863],\n",
      "        [ 0.0585,  0.2370, -0.0262, -0.2823],\n",
      "        [ 0.1067,  0.6316, -0.0931, -0.9659],\n",
      "        [ 0.0845,  0.4336, -0.0613, -0.6070],\n",
      "        [ 0.0719,  0.6281, -0.0436, -0.8857],\n",
      "        [ 0.0980,  0.4354, -0.0801, -0.6491],\n",
      "        [ 0.0932,  0.2393, -0.0734, -0.3342]], dtype=torch.float64))\n"
     ]
    }
   ],
   "source": [
    "print(replay.sample(10))\n"
   ],
   "metadata": {
    "collapsed": false,
    "pycharm": {
     "name": "#%%\n"
    }
   }
  },
  {
   "cell_type": "code",
   "execution_count": 6,
   "outputs": [],
   "source": [],
   "metadata": {
    "collapsed": false,
    "pycharm": {
     "name": "#%%\n"
    }
   }
  }
 ],
 "metadata": {
  "kernelspec": {
   "display_name": "Python 3",
   "language": "python",
   "name": "python3"
  },
  "language_info": {
   "codemirror_mode": {
    "name": "ipython",
    "version": 2
   },
   "file_extension": ".py",
   "mimetype": "text/x-python",
   "name": "python",
   "nbconvert_exporter": "python",
   "pygments_lexer": "ipython2",
   "version": "2.7.6"
  }
 },
 "nbformat": 4,
 "nbformat_minor": 0
}