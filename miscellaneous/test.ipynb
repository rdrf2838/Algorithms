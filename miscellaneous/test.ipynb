{
 "cells": [
  {
   "cell_type": "code",
   "execution_count": 5,
   "metadata": {},
   "outputs": [],
   "source": [
    "import numpy as np\n",
    "import matplotlib.pyplot as plt\n"
   ]
  },
  {
   "cell_type": "code",
   "execution_count": 11,
   "metadata": {},
   "outputs": [],
   "source": [
    "def rx():\n",
    "    return np.random.triangular(0, 1, 1)\n",
    "\n",
    "def ry():\n",
    "    return rx()**2\n"
   ]
  },
  {
   "cell_type": "code",
   "execution_count": 14,
   "metadata": {},
   "outputs": [
    {
     "data": {
      "text/plain": [
       "(array([ 7., 16.,  9., 12.,  7.,  7., 12.,  6., 12.,  6., 11.,  5.,  9.,\n",
       "        11., 10.,  8.,  9.,  9., 11., 11.,  8.,  4.,  8., 10., 11., 14.,\n",
       "        17., 13., 11.,  7.,  7., 16., 16.,  9.,  4., 10.,  6.,  7.,  6.,\n",
       "        12., 11.,  8.,  6.,  6.,  8.,  6.,  7., 13.,  9., 10., 11.,  8.,\n",
       "         4., 14.,  9., 12., 16.,  7.,  9., 12.,  4.,  7., 15.,  4.,  8.,\n",
       "        12., 15., 12., 12., 14., 11.,  3., 13., 11., 13., 11., 13., 11.,\n",
       "         5.,  7.,  6.,  9., 15.,  8., 17.,  9., 10., 15., 13., 11., 12.,\n",
       "        10., 11., 10., 11., 14., 12.,  7., 15., 14.]),\n",
       " array([0.00242824, 0.01240293, 0.02237762, 0.03235231, 0.04232701,\n",
       "        0.0523017 , 0.06227639, 0.07225108, 0.08222577, 0.09220046,\n",
       "        0.10217515, 0.11214984, 0.12212454, 0.13209923, 0.14207392,\n",
       "        0.15204861, 0.1620233 , 0.17199799, 0.18197268, 0.19194737,\n",
       "        0.20192207, 0.21189676, 0.22187145, 0.23184614, 0.24182083,\n",
       "        0.25179552, 0.26177021, 0.2717449 , 0.2817196 , 0.29169429,\n",
       "        0.30166898, 0.31164367, 0.32161836, 0.33159305, 0.34156774,\n",
       "        0.35154243, 0.36151713, 0.37149182, 0.38146651, 0.3914412 ,\n",
       "        0.40141589, 0.41139058, 0.42136527, 0.43133996, 0.44131465,\n",
       "        0.45128935, 0.46126404, 0.47123873, 0.48121342, 0.49118811,\n",
       "        0.5011628 , 0.51113749, 0.52111218, 0.53108688, 0.54106157,\n",
       "        0.55103626, 0.56101095, 0.57098564, 0.58096033, 0.59093502,\n",
       "        0.60090971, 0.61088441, 0.6208591 , 0.63083379, 0.64080848,\n",
       "        0.65078317, 0.66075786, 0.67073255, 0.68070724, 0.69068194,\n",
       "        0.70065663, 0.71063132, 0.72060601, 0.7305807 , 0.74055539,\n",
       "        0.75053008, 0.76050477, 0.77047947, 0.78045416, 0.79042885,\n",
       "        0.80040354, 0.81037823, 0.82035292, 0.83032761, 0.8403023 ,\n",
       "        0.85027699, 0.86025169, 0.87022638, 0.88020107, 0.89017576,\n",
       "        0.90015045, 0.91012514, 0.92009983, 0.93007452, 0.94004922,\n",
       "        0.95002391, 0.9599986 , 0.96997329, 0.97994798, 0.98992267,\n",
       "        0.99989736]),\n",
       " <BarContainer object of 100 artists>)"
      ]
     },
     "execution_count": 14,
     "metadata": {},
     "output_type": "execute_result"
    },
    {
     "data": {
      "image/png": "[encoded data removed]",
      "text/plain": [
       "<Figure size 432x288 with 2 Axes>"
      ]
     },
     "metadata": {
      "needs_background": "light"
     },
     "output_type": "display_data"
    }
   ],
   "source": [
    "tot = 1000\n",
    "x = [rx() for _ in range(tot)]\n",
    "y = [ry() for _ in range(tot)]\n",
    "\n",
    "bins=100\n",
    "fig1, (ax1, ax2) = plt.subplots(2, 1)\n",
    "ax1.hist(x, bins)\n",
    "ax2.hist(y, bins)\n"
   ]
  },
  {
   "cell_type": "code",
   "execution_count": null,
   "metadata": {},
   "outputs": [],
   "source": []
  }
 ],
 "metadata": {
  "interpreter": {
   "hash": "ede09991d52f9743dbeec7a27edb5966bd556f5075ffb8b78bac439a65bb02ec"
  },
  "kernelspec": {
   "display_name": "Python 3.9.7 ('venv_linux': venv)",
   "language": "python",
   "name": "python3"
  },
  "language_info": {
   "codemirror_mode": {
    "name": "ipython",
    "version": 3
   },
   "file_extension": ".py",
   "mimetype": "text/x-python",
   "name": "python",
   "nbconvert_exporter": "python",
   "pygments_lexer": "ipython3",
   "version": "3.9.7"
  },
  "orig_nbformat": 4
 },
 "nbformat": 4,
 "nbformat_minor": 2
}
